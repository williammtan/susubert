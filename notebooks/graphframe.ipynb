{
 "cells": [
  {
   "cell_type": "code",
   "execution_count": 2,
   "id": "6157f5e7",
   "metadata": {
    "scrolled": true
   },
   "outputs": [],
   "source": [
    "import pandas as pd\n",
    "from graphframes import GraphFrame"
   ]
  },
  {
   "cell_type": "code",
   "execution_count": 1,
   "id": "19aa2c64",
   "metadata": {
    "scrolled": true
   },
   "outputs": [
    {
     "data": {
      "text/html": [
       "\n",
       "            <div>\n",
       "                <p><b>SparkSession - hive</b></p>\n",
       "                \n",
       "        <div>\n",
       "            <p><b>SparkContext</b></p>\n",
       "\n",
       "            <p><a href=\"http://product-matching.c.food-id-app.internal:4040\">Spark UI</a></p>\n",
       "\n",
       "            <dl>\n",
       "              <dt>Version</dt>\n",
       "                <dd><code>v2.4.8</code></dd>\n",
       "              <dt>Master</dt>\n",
       "                <dd><code>local[*]</code></dd>\n",
       "              <dt>AppName</dt>\n",
       "                <dd><code>PySparkShell</code></dd>\n",
       "            </dl>\n",
       "        </div>\n",
       "        \n",
       "            </div>\n",
       "        "
      ],
      "text/plain": [
       "<pyspark.sql.session.SparkSession at 0x7f3d4f8f9650>"
      ]
     },
     "execution_count": 1,
     "metadata": {},
     "output_type": "execute_result"
    }
   ],
   "source": [
    "spark"
   ]
  },
  {
   "cell_type": "code",
   "execution_count": 3,
   "id": "11894294",
   "metadata": {},
   "outputs": [],
   "source": [
    "products = pd.read_csv('../data/sku.csv')\n",
    "matches = pd.read_csv('../data/batch_selection.csv').rename(columns={'id1': 'src', 'id2': 'dst'})"
   ]
  },
  {
   "cell_type": "code",
   "execution_count": 24,
   "id": "e5c2444c",
   "metadata": {},
   "outputs": [],
   "source": [
    "v = spark.createDataFrame(products)\n",
    "e = spark.createDataFrame(matches)"
   ]
  },
  {
   "cell_type": "code",
   "execution_count": 25,
   "id": "9ca0f2bf",
   "metadata": {},
   "outputs": [],
   "source": [
    "g = GraphFrame(v, e)"
   ]
  },
  {
   "cell_type": "code",
   "execution_count": 33,
   "id": "cc9b2691",
   "metadata": {
    "scrolled": true
   },
   "outputs": [],
   "source": [
    "vertices = spark.createDataFrame([('1', 'Carter', 'Derrick', 50), \n",
    "                                  ('2', 'May', 'Derrick', 26),\n",
    "                                 ('3', 'Mills', 'Jeff', 80),\n",
    "                                  ('4', 'Hood', 'Robert', 65),\n",
    "                                  ('5', 'Banks', 'Mike', 93),\n",
    "                                 ('98', 'Berg', 'Tim', 28),\n",
    "                                 ('99', 'Page', 'Allan', 16)],\n",
    "                                 ['id', 'name', 'firstname', 'age'])\n",
    "edges = spark.createDataFrame([('1', '2', 'friend'), \n",
    "                               ('2', '1', 'friend'),\n",
    "                              ('3', '1', 'friend'),\n",
    "                              ('1', '3', 'friend'),\n",
    "                               ('2', '3', 'follows'),\n",
    "                               ('3', '4', 'friend'),\n",
    "                               ('4', '3', 'friend'),\n",
    "                               ('5', '3', 'friend'),\n",
    "                               ('3', '5', 'friend'),\n",
    "                               ('4', '5', 'follows'),\n",
    "                              ('98', '99', 'friend'),\n",
    "                              ('99', '98', 'friend')],\n",
    "                              ['src', 'dst', 'type'])\n",
    "g = GraphFrame(vertices, edges)"
   ]
  },
  {
   "cell_type": "code",
   "execution_count": 30,
   "id": "b7144b71",
   "metadata": {},
   "outputs": [
    {
     "data": {
      "text/html": [
       "<div>\n",
       "<style scoped>\n",
       "    .dataframe tbody tr th:only-of-type {\n",
       "        vertical-align: middle;\n",
       "    }\n",
       "\n",
       "    .dataframe tbody tr th {\n",
       "        vertical-align: top;\n",
       "    }\n",
       "\n",
       "    .dataframe thead th {\n",
       "        text-align: right;\n",
       "    }\n",
       "</style>\n",
       "<table border=\"1\" class=\"dataframe\">\n",
       "  <thead>\n",
       "    <tr style=\"text-align: right;\">\n",
       "      <th></th>\n",
       "      <th>level_0</th>\n",
       "      <th>index</th>\n",
       "      <th>id</th>\n",
       "      <th>name</th>\n",
       "      <th>description</th>\n",
       "      <th>price</th>\n",
       "      <th>weight</th>\n",
       "      <th>sku</th>\n",
       "      <th>master_product</th>\n",
       "    </tr>\n",
       "  </thead>\n",
       "  <tbody>\n",
       "    <tr>\n",
       "      <th>469</th>\n",
       "      <td>2798</td>\n",
       "      <td>6418</td>\n",
       "      <td>810078503</td>\n",
       "      <td>Promo Diamond Susu UHT Full cream 1liter Dus L...</td>\n",
       "      <td>\\nSusu UHT diamond Fullcream 1liter isi 12pak ...</td>\n",
       "      <td>233800</td>\n",
       "      <td>3500</td>\n",
       "      <td>3131/1100066694714015744/55</td>\n",
       "      <td>1101</td>\n",
       "    </tr>\n",
       "    <tr>\n",
       "      <th>484</th>\n",
       "      <td>3037</td>\n",
       "      <td>7113</td>\n",
       "      <td>828463225</td>\n",
       "      <td>NEW Diamond Susu UHT Full cream 1liter Dus</td>\n",
       "      <td>\\nSusu UHT diamond Fullcream 1liter isi 12pak ...</td>\n",
       "      <td>248800</td>\n",
       "      <td>3500</td>\n",
       "      <td>3131/1100066694714015744/55</td>\n",
       "      <td>1101</td>\n",
       "    </tr>\n",
       "    <tr>\n",
       "      <th>509</th>\n",
       "      <td>3547</td>\n",
       "      <td>7988</td>\n",
       "      <td>879242734</td>\n",
       "      <td>Diamond Susu UHT Full cream 1liter Dus Terlari...</td>\n",
       "      <td>Sangat Murah Berkwalitas\\nSusu UHT diamond Ful...</td>\n",
       "      <td>238000</td>\n",
       "      <td>3500</td>\n",
       "      <td>3131/1100066694714015744/55</td>\n",
       "      <td>1101</td>\n",
       "    </tr>\n",
       "    <tr>\n",
       "      <th>512</th>\n",
       "      <td>3569</td>\n",
       "      <td>8011</td>\n",
       "      <td>1449713332</td>\n",
       "      <td>Diamond Susu UHT Full cream 1liter Dus</td>\n",
       "      <td>Selamat Datang di Lapak Kami.\\nSusu UHT diamon...</td>\n",
       "      <td>245000</td>\n",
       "      <td>1000</td>\n",
       "      <td>3131/1100066694714015744/55</td>\n",
       "      <td>1101</td>\n",
       "    </tr>\n",
       "    <tr>\n",
       "      <th>542</th>\n",
       "      <td>4448</td>\n",
       "      <td>9623</td>\n",
       "      <td>1222276073</td>\n",
       "      <td>Stock terbatas Diamond Susu UHT Full cream 1li...</td>\n",
       "      <td>\\nSusu UHT diamond Fullcream 1liter isi 12pak ...</td>\n",
       "      <td>223600</td>\n",
       "      <td>2000</td>\n",
       "      <td>3131/1100066694714015744/55</td>\n",
       "      <td>1101</td>\n",
       "    </tr>\n",
       "    <tr>\n",
       "      <th>544</th>\n",
       "      <td>4451</td>\n",
       "      <td>9626</td>\n",
       "      <td>1229159065</td>\n",
       "      <td>Stock terbatas Diamond Susu UHT Full cream 1li...</td>\n",
       "      <td>\\nSusu UHT diamond Fullcream 1liter isi 12pak ...</td>\n",
       "      <td>223600</td>\n",
       "      <td>2000</td>\n",
       "      <td>3131/1100066694714015744/55</td>\n",
       "      <td>1101</td>\n",
       "    </tr>\n",
       "    <tr>\n",
       "      <th>557</th>\n",
       "      <td>4483</td>\n",
       "      <td>9668</td>\n",
       "      <td>1267250073</td>\n",
       "      <td>Stock terbatas Diamond Susu UHT Full cream 1li...</td>\n",
       "      <td>\\nSusu UHT diamond Fullcream 1liter isi 12pak ...</td>\n",
       "      <td>223600</td>\n",
       "      <td>2000</td>\n",
       "      <td>3131/1100066694714015744/55</td>\n",
       "      <td>1101</td>\n",
       "    </tr>\n",
       "    <tr>\n",
       "      <th>559</th>\n",
       "      <td>4490</td>\n",
       "      <td>9675</td>\n",
       "      <td>1212574911</td>\n",
       "      <td>Stock terbatas Diamond Susu UHT Full cream 1li...</td>\n",
       "      <td>\\nSusu UHT diamond Fullcream 1liter isi 12pak ...</td>\n",
       "      <td>223600</td>\n",
       "      <td>2000</td>\n",
       "      <td>3131/1100066694714015744/55</td>\n",
       "      <td>1101</td>\n",
       "    </tr>\n",
       "    <tr>\n",
       "      <th>575</th>\n",
       "      <td>4590</td>\n",
       "      <td>9845</td>\n",
       "      <td>1883451997</td>\n",
       "      <td>Dijual Diamond Susu UHT Full cream 1liter Dus ...</td>\n",
       "      <td>\\nSusu UHT diamond Fullcream 1liter isi 12pak ...</td>\n",
       "      <td>228400</td>\n",
       "      <td>975</td>\n",
       "      <td>3131/1100066694714015744/55</td>\n",
       "      <td>1101</td>\n",
       "    </tr>\n",
       "  </tbody>\n",
       "</table>\n",
       "</div>"
      ],
      "text/plain": [
       "     level_0  index          id  \\\n",
       "469     2798   6418   810078503   \n",
       "484     3037   7113   828463225   \n",
       "509     3547   7988   879242734   \n",
       "512     3569   8011  1449713332   \n",
       "542     4448   9623  1222276073   \n",
       "544     4451   9626  1229159065   \n",
       "557     4483   9668  1267250073   \n",
       "559     4490   9675  1212574911   \n",
       "575     4590   9845  1883451997   \n",
       "\n",
       "                                                  name  \\\n",
       "469  Promo Diamond Susu UHT Full cream 1liter Dus L...   \n",
       "484         NEW Diamond Susu UHT Full cream 1liter Dus   \n",
       "509  Diamond Susu UHT Full cream 1liter Dus Terlari...   \n",
       "512             Diamond Susu UHT Full cream 1liter Dus   \n",
       "542  Stock terbatas Diamond Susu UHT Full cream 1li...   \n",
       "544  Stock terbatas Diamond Susu UHT Full cream 1li...   \n",
       "557  Stock terbatas Diamond Susu UHT Full cream 1li...   \n",
       "559  Stock terbatas Diamond Susu UHT Full cream 1li...   \n",
       "575  Dijual Diamond Susu UHT Full cream 1liter Dus ...   \n",
       "\n",
       "                                           description   price  weight  \\\n",
       "469  \\nSusu UHT diamond Fullcream 1liter isi 12pak ...  233800    3500   \n",
       "484  \\nSusu UHT diamond Fullcream 1liter isi 12pak ...  248800    3500   \n",
       "509  Sangat Murah Berkwalitas\\nSusu UHT diamond Ful...  238000    3500   \n",
       "512  Selamat Datang di Lapak Kami.\\nSusu UHT diamon...  245000    1000   \n",
       "542  \\nSusu UHT diamond Fullcream 1liter isi 12pak ...  223600    2000   \n",
       "544  \\nSusu UHT diamond Fullcream 1liter isi 12pak ...  223600    2000   \n",
       "557  \\nSusu UHT diamond Fullcream 1liter isi 12pak ...  223600    2000   \n",
       "559  \\nSusu UHT diamond Fullcream 1liter isi 12pak ...  223600    2000   \n",
       "575  \\nSusu UHT diamond Fullcream 1liter isi 12pak ...  228400     975   \n",
       "\n",
       "                             sku  master_product  \n",
       "469  3131/1100066694714015744/55            1101  \n",
       "484  3131/1100066694714015744/55            1101  \n",
       "509  3131/1100066694714015744/55            1101  \n",
       "512  3131/1100066694714015744/55            1101  \n",
       "542  3131/1100066694714015744/55            1101  \n",
       "544  3131/1100066694714015744/55            1101  \n",
       "557  3131/1100066694714015744/55            1101  \n",
       "559  3131/1100066694714015744/55            1101  \n",
       "575  3131/1100066694714015744/55            1101  "
      ]
     },
     "execution_count": 30,
     "metadata": {},
     "output_type": "execute_result"
    }
   ],
   "source": [
    "products[products.id==828463225]\n",
    "products[products.master_product == 1101]"
   ]
  },
  {
   "cell_type": "code",
   "execution_count": 37,
   "id": "be64a76d",
   "metadata": {
    "scrolled": true
   },
   "outputs": [
    {
     "ename": "IllegalArgumentException",
     "evalue": "'Unsupported class file major version 55'",
     "output_type": "error",
     "traceback": [
      "\u001b[0;31m---------------------------------------------------------------------------\u001b[0m",
      "\u001b[0;31mPy4JJavaError\u001b[0m                             Traceback (most recent call last)",
      "\u001b[0;32m/opt/spark/python/pyspark/sql/utils.py\u001b[0m in \u001b[0;36mdeco\u001b[0;34m(*a, **kw)\u001b[0m\n\u001b[1;32m     62\u001b[0m         \u001b[0;32mtry\u001b[0m\u001b[0;34m:\u001b[0m\u001b[0;34m\u001b[0m\u001b[0;34m\u001b[0m\u001b[0m\n\u001b[0;32m---> 63\u001b[0;31m             \u001b[0;32mreturn\u001b[0m \u001b[0mf\u001b[0m\u001b[0;34m(\u001b[0m\u001b[0;34m*\u001b[0m\u001b[0ma\u001b[0m\u001b[0;34m,\u001b[0m \u001b[0;34m**\u001b[0m\u001b[0mkw\u001b[0m\u001b[0;34m)\u001b[0m\u001b[0;34m\u001b[0m\u001b[0;34m\u001b[0m\u001b[0m\n\u001b[0m\u001b[1;32m     64\u001b[0m         \u001b[0;32mexcept\u001b[0m \u001b[0mpy4j\u001b[0m\u001b[0;34m.\u001b[0m\u001b[0mprotocol\u001b[0m\u001b[0;34m.\u001b[0m\u001b[0mPy4JJavaError\u001b[0m \u001b[0;32mas\u001b[0m \u001b[0me\u001b[0m\u001b[0;34m:\u001b[0m\u001b[0;34m\u001b[0m\u001b[0;34m\u001b[0m\u001b[0m\n",
      "\u001b[0;32m/opt/spark/python/lib/py4j-0.10.7-src.zip/py4j/protocol.py\u001b[0m in \u001b[0;36mget_return_value\u001b[0;34m(answer, gateway_client, target_id, name)\u001b[0m\n\u001b[1;32m    327\u001b[0m                     \u001b[0;34m\"An error occurred while calling {0}{1}{2}.\\n\"\u001b[0m\u001b[0;34m.\u001b[0m\u001b[0;34m\u001b[0m\u001b[0;34m\u001b[0m\u001b[0m\n\u001b[0;32m--> 328\u001b[0;31m                     format(target_id, \".\", name), value)\n\u001b[0m\u001b[1;32m    329\u001b[0m             \u001b[0;32melse\u001b[0m\u001b[0;34m:\u001b[0m\u001b[0;34m\u001b[0m\u001b[0;34m\u001b[0m\u001b[0m\n",
      "\u001b[0;31mPy4JJavaError\u001b[0m: An error occurred while calling o842.run.\n: java.lang.IllegalArgumentException: Unsupported class file major version 55\n\tat org.apache.xbean.asm6.ClassReader.<init>(ClassReader.java:166)\n\tat org.apache.xbean.asm6.ClassReader.<init>(ClassReader.java:148)\n\tat org.apache.xbean.asm6.ClassReader.<init>(ClassReader.java:136)\n\tat org.apache.xbean.asm6.ClassReader.<init>(ClassReader.java:237)\n\tat org.apache.spark.util.ClosureCleaner$.getClassReader(ClosureCleaner.scala:50)\n\tat org.apache.spark.util.FieldAccessFinder$$anon$4$$anonfun$visitMethodInsn$7.apply(ClosureCleaner.scala:845)\n\tat org.apache.spark.util.FieldAccessFinder$$anon$4$$anonfun$visitMethodInsn$7.apply(ClosureCleaner.scala:828)\n\tat scala.collection.TraversableLike$WithFilter$$anonfun$foreach$1.apply(TraversableLike.scala:733)\n\tat scala.collection.mutable.HashMap$$anon$1$$anonfun$foreach$2.apply(HashMap.scala:134)\n\tat scala.collection.mutable.HashMap$$anon$1$$anonfun$foreach$2.apply(HashMap.scala:134)\n\tat scala.collection.mutable.HashTable$class.foreachEntry(HashTable.scala:236)\n\tat scala.collection.mutable.HashMap.foreachEntry(HashMap.scala:40)\n\tat scala.collection.mutable.HashMap$$anon$1.foreach(HashMap.scala:134)\n\tat scala.collection.TraversableLike$WithFilter.foreach(TraversableLike.scala:732)\n\tat org.apache.spark.util.FieldAccessFinder$$anon$4.visitMethodInsn(ClosureCleaner.scala:828)\n\tat org.apache.xbean.asm6.ClassReader.readCode(ClassReader.java:2175)\n\tat org.apache.xbean.asm6.ClassReader.readMethod(ClassReader.java:1238)\n\tat org.apache.xbean.asm6.ClassReader.accept(ClassReader.java:631)\n\tat org.apache.xbean.asm6.ClassReader.accept(ClassReader.java:355)\n\tat org.apache.spark.util.ClosureCleaner$$anonfun$org$apache$spark$util$ClosureCleaner$$clean$14.apply(ClosureCleaner.scala:272)\n\tat org.apache.spark.util.ClosureCleaner$$anonfun$org$apache$spark$util$ClosureCleaner$$clean$14.apply(ClosureCleaner.scala:271)\n\tat scala.collection.immutable.List.foreach(List.scala:392)\n\tat org.apache.spark.util.ClosureCleaner$.org$apache$spark$util$ClosureCleaner$$clean(ClosureCleaner.scala:271)\n\tat org.apache.spark.util.ClosureCleaner$.clean(ClosureCleaner.scala:163)\n\tat org.apache.spark.SparkContext.clean(SparkContext.scala:2332)\n\tat org.apache.spark.SparkContext.runJob(SparkContext.scala:2106)\n\tat org.apache.spark.SparkContext.runJob(SparkContext.scala:2132)\n\tat org.apache.spark.rdd.RDD$$anonfun$collect$1.apply(RDD.scala:990)\n\tat org.apache.spark.rdd.RDDOperationScope$.withScope(RDDOperationScope.scala:151)\n\tat org.apache.spark.rdd.RDDOperationScope$.withScope(RDDOperationScope.scala:112)\n\tat org.apache.spark.rdd.RDD.withScope(RDD.scala:385)\n\tat org.apache.spark.rdd.RDD.collect(RDD.scala:989)\n\tat org.apache.spark.sql.execution.SparkPlan.executeCollect(SparkPlan.scala:304)\n\tat org.apache.spark.sql.Dataset.org$apache$spark$sql$Dataset$$collectFromPlan(Dataset.scala:3388)\n\tat org.apache.spark.sql.Dataset$$anonfun$collect$1.apply(Dataset.scala:2788)\n\tat org.apache.spark.sql.Dataset$$anonfun$collect$1.apply(Dataset.scala:2788)\n\tat org.apache.spark.sql.Dataset$$anonfun$53.apply(Dataset.scala:3369)\n\tat org.apache.spark.sql.execution.SQLExecution$$anonfun$withNewExecutionId$1.apply(SQLExecution.scala:80)\n\tat org.apache.spark.sql.execution.SQLExecution$.withSQLConfPropagated(SQLExecution.scala:127)\n\tat org.apache.spark.sql.execution.SQLExecution$.withNewExecutionId(SQLExecution.scala:75)\n\tat org.apache.spark.sql.Dataset.org$apache$spark$sql$Dataset$$withAction(Dataset.scala:3368)\n\tat org.apache.spark.sql.Dataset.collect(Dataset.scala:2788)\n\tat org.graphframes.GraphFrame.indexedEdges$lzycompute(GraphFrame.scala:575)\n\tat org.graphframes.GraphFrame.indexedEdges(GraphFrame.scala:565)\n\tat org.graphframes.lib.ConnectedComponents$.prepare(ConnectedComponents.scala:213)\n\tat org.graphframes.lib.ConnectedComponents$.org$graphframes$lib$ConnectedComponents$$run(ConnectedComponents.scala:308)\n\tat org.graphframes.lib.ConnectedComponents.run(ConnectedComponents.scala:154)\n\tat java.base/jdk.internal.reflect.NativeMethodAccessorImpl.invoke0(Native Method)\n\tat java.base/jdk.internal.reflect.NativeMethodAccessorImpl.invoke(NativeMethodAccessorImpl.java:62)\n\tat java.base/jdk.internal.reflect.DelegatingMethodAccessorImpl.invoke(DelegatingMethodAccessorImpl.java:43)\n\tat java.base/java.lang.reflect.Method.invoke(Method.java:566)\n\tat py4j.reflection.MethodInvoker.invoke(MethodInvoker.java:244)\n\tat py4j.reflection.ReflectionEngine.invoke(ReflectionEngine.java:357)\n\tat py4j.Gateway.invoke(Gateway.java:282)\n\tat py4j.commands.AbstractCommand.invokeMethod(AbstractCommand.java:132)\n\tat py4j.commands.CallCommand.execute(CallCommand.java:79)\n\tat py4j.GatewayConnection.run(GatewayConnection.java:238)\n\tat java.base/java.lang.Thread.run(Thread.java:829)\n",
      "\nDuring handling of the above exception, another exception occurred:\n",
      "\u001b[0;31mIllegalArgumentException\u001b[0m                  Traceback (most recent call last)",
      "\u001b[0;32m<ipython-input-37-e8c41cf953a7>\u001b[0m in \u001b[0;36m<module>\u001b[0;34m\u001b[0m\n\u001b[0;32m----> 1\u001b[0;31m \u001b[0mg\u001b[0m\u001b[0;34m.\u001b[0m\u001b[0mconnectedComponents\u001b[0m\u001b[0;34m(\u001b[0m\u001b[0;34m)\u001b[0m\u001b[0;34m\u001b[0m\u001b[0;34m\u001b[0m\u001b[0m\n\u001b[0m",
      "\u001b[0;32m/tmp/spark-4f1b6720-784d-4b5a-95d3-a5f6fdd2eb84/userFiles-467cfd2e-8242-4aae-9c91-a1cb04a35176/graphframes_graphframes-0.8.1-spark2.4-s_2.11.jar/graphframes/graphframe.py\u001b[0m in \u001b[0;36mconnectedComponents\u001b[0;34m(self, algorithm, checkpointInterval, broadcastThreshold)\u001b[0m\n\u001b[1;32m    328\u001b[0m             \u001b[0;34m.\u001b[0m\u001b[0msetAlgorithm\u001b[0m\u001b[0;34m(\u001b[0m\u001b[0malgorithm\u001b[0m\u001b[0;34m)\u001b[0m\u001b[0;31m \u001b[0m\u001b[0;31m\\\u001b[0m\u001b[0;34m\u001b[0m\u001b[0;34m\u001b[0m\u001b[0m\n\u001b[1;32m    329\u001b[0m             \u001b[0;34m.\u001b[0m\u001b[0msetCheckpointInterval\u001b[0m\u001b[0;34m(\u001b[0m\u001b[0mcheckpointInterval\u001b[0m\u001b[0;34m)\u001b[0m\u001b[0;31m \u001b[0m\u001b[0;31m\\\u001b[0m\u001b[0;34m\u001b[0m\u001b[0;34m\u001b[0m\u001b[0m\n\u001b[0;32m--> 330\u001b[0;31m             \u001b[0;34m.\u001b[0m\u001b[0msetBroadcastThreshold\u001b[0m\u001b[0;34m(\u001b[0m\u001b[0mbroadcastThreshold\u001b[0m\u001b[0;34m)\u001b[0m\u001b[0;31m \u001b[0m\u001b[0;31m\\\u001b[0m\u001b[0;34m\u001b[0m\u001b[0;34m\u001b[0m\u001b[0m\n\u001b[0m\u001b[1;32m    331\u001b[0m             \u001b[0;34m.\u001b[0m\u001b[0mrun\u001b[0m\u001b[0;34m(\u001b[0m\u001b[0;34m)\u001b[0m\u001b[0;34m\u001b[0m\u001b[0;34m\u001b[0m\u001b[0m\n\u001b[1;32m    332\u001b[0m         \u001b[0;32mreturn\u001b[0m \u001b[0mDataFrame\u001b[0m\u001b[0;34m(\u001b[0m\u001b[0mjdf\u001b[0m\u001b[0;34m,\u001b[0m \u001b[0mself\u001b[0m\u001b[0;34m.\u001b[0m\u001b[0m_sqlContext\u001b[0m\u001b[0;34m)\u001b[0m\u001b[0;34m\u001b[0m\u001b[0;34m\u001b[0m\u001b[0m\n",
      "\u001b[0;32m/opt/spark/python/lib/py4j-0.10.7-src.zip/py4j/java_gateway.py\u001b[0m in \u001b[0;36m__call__\u001b[0;34m(self, *args)\u001b[0m\n\u001b[1;32m   1255\u001b[0m         \u001b[0manswer\u001b[0m \u001b[0;34m=\u001b[0m \u001b[0mself\u001b[0m\u001b[0;34m.\u001b[0m\u001b[0mgateway_client\u001b[0m\u001b[0;34m.\u001b[0m\u001b[0msend_command\u001b[0m\u001b[0;34m(\u001b[0m\u001b[0mcommand\u001b[0m\u001b[0;34m)\u001b[0m\u001b[0;34m\u001b[0m\u001b[0;34m\u001b[0m\u001b[0m\n\u001b[1;32m   1256\u001b[0m         return_value = get_return_value(\n\u001b[0;32m-> 1257\u001b[0;31m             answer, self.gateway_client, self.target_id, self.name)\n\u001b[0m\u001b[1;32m   1258\u001b[0m \u001b[0;34m\u001b[0m\u001b[0m\n\u001b[1;32m   1259\u001b[0m         \u001b[0;32mfor\u001b[0m \u001b[0mtemp_arg\u001b[0m \u001b[0;32min\u001b[0m \u001b[0mtemp_args\u001b[0m\u001b[0;34m:\u001b[0m\u001b[0;34m\u001b[0m\u001b[0;34m\u001b[0m\u001b[0m\n",
      "\u001b[0;32m/opt/spark/python/pyspark/sql/utils.py\u001b[0m in \u001b[0;36mdeco\u001b[0;34m(*a, **kw)\u001b[0m\n\u001b[1;32m     77\u001b[0m                 \u001b[0;32mraise\u001b[0m \u001b[0mQueryExecutionException\u001b[0m\u001b[0;34m(\u001b[0m\u001b[0ms\u001b[0m\u001b[0;34m.\u001b[0m\u001b[0msplit\u001b[0m\u001b[0;34m(\u001b[0m\u001b[0;34m': '\u001b[0m\u001b[0;34m,\u001b[0m \u001b[0;36m1\u001b[0m\u001b[0;34m)\u001b[0m\u001b[0;34m[\u001b[0m\u001b[0;36m1\u001b[0m\u001b[0;34m]\u001b[0m\u001b[0;34m,\u001b[0m \u001b[0mstackTrace\u001b[0m\u001b[0;34m)\u001b[0m\u001b[0;34m\u001b[0m\u001b[0;34m\u001b[0m\u001b[0m\n\u001b[1;32m     78\u001b[0m             \u001b[0;32mif\u001b[0m \u001b[0ms\u001b[0m\u001b[0;34m.\u001b[0m\u001b[0mstartswith\u001b[0m\u001b[0;34m(\u001b[0m\u001b[0;34m'java.lang.IllegalArgumentException: '\u001b[0m\u001b[0;34m)\u001b[0m\u001b[0;34m:\u001b[0m\u001b[0;34m\u001b[0m\u001b[0;34m\u001b[0m\u001b[0m\n\u001b[0;32m---> 79\u001b[0;31m                 \u001b[0;32mraise\u001b[0m \u001b[0mIllegalArgumentException\u001b[0m\u001b[0;34m(\u001b[0m\u001b[0ms\u001b[0m\u001b[0;34m.\u001b[0m\u001b[0msplit\u001b[0m\u001b[0;34m(\u001b[0m\u001b[0;34m': '\u001b[0m\u001b[0;34m,\u001b[0m \u001b[0;36m1\u001b[0m\u001b[0;34m)\u001b[0m\u001b[0;34m[\u001b[0m\u001b[0;36m1\u001b[0m\u001b[0;34m]\u001b[0m\u001b[0;34m,\u001b[0m \u001b[0mstackTrace\u001b[0m\u001b[0;34m)\u001b[0m\u001b[0;34m\u001b[0m\u001b[0;34m\u001b[0m\u001b[0m\n\u001b[0m\u001b[1;32m     80\u001b[0m             \u001b[0;32mraise\u001b[0m\u001b[0;34m\u001b[0m\u001b[0;34m\u001b[0m\u001b[0m\n\u001b[1;32m     81\u001b[0m     \u001b[0;32mreturn\u001b[0m \u001b[0mdeco\u001b[0m\u001b[0;34m\u001b[0m\u001b[0;34m\u001b[0m\u001b[0m\n",
      "\u001b[0;31mIllegalArgumentException\u001b[0m: 'Unsupported class file major version 55'"
     ]
    }
   ],
   "source": [
    "g.connectedComponents()"
   ]
  },
  {
   "cell_type": "code",
   "execution_count": 6,
   "id": "362c8548",
   "metadata": {
    "scrolled": true
   },
   "outputs": [
    {
     "data": {
      "text/plain": [
       "'2.4.8'"
      ]
     },
     "execution_count": 6,
     "metadata": {},
     "output_type": "execute_result"
    }
   ],
   "source": [
    "sc.version"
   ]
  },
  {
   "cell_type": "code",
   "execution_count": 12,
   "id": "9505da79",
   "metadata": {},
   "outputs": [],
   "source": [
    "sc.setCheckpointDir('graphframes_cps')"
   ]
  }
 ],
 "metadata": {
  "kernelspec": {
   "display_name": "Python 3",
   "language": "python",
   "name": "python3"
  },
  "language_info": {
   "codemirror_mode": {
    "name": "ipython",
    "version": 3
   },
   "file_extension": ".py",
   "mimetype": "text/x-python",
   "name": "python",
   "nbconvert_exporter": "python",
   "pygments_lexer": "ipython3",
   "version": "3.7.10"
  }
 },
 "nbformat": 4,
 "nbformat_minor": 5
}
