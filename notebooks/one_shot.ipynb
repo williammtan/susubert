{
 "cells": [
  {
   "cell_type": "code",
   "execution_count": 6,
   "id": "7413d9d3",
   "metadata": {},
   "outputs": [],
   "source": [
    "from sklearn.model_selection import train_test_split\n",
    "from sklearn.metrics import classification_report\n",
    "from annoy import AnnoyIndex\n",
    "from tqdm import tqdm\n",
    "import pandas as pd\n",
    "import numpy as np\n",
    "\n",
    "import torch\n",
    "import tensorflow as tf\n",
    "from transformers import AutoTokenizer, TFAutoModelForSequenceClassification, BertConfig\n",
    "\n",
    "import sys\n",
    "sys.path.append('../src')"
   ]
  },
  {
   "cell_type": "code",
   "execution_count": 92,
   "id": "5ff63690",
   "metadata": {},
   "outputs": [],
   "source": [
    "products = pd.read_csv('../data/pareto_training.csv')\n",
    "matching_products = pd.read_csv('../data/pareto_training.csv').dropna(subset=['master_product'])\n",
    "matching_products = matching_products.reset_index(drop=True)\n",
    "master_products = matching_products.master_product.unique()\n",
    "matching_products['master_product_id'] = matching_products.apply(lambda x: np.where(x.master_product == master_products)[0][0], axis=1)\n",
    "products['master_product_id'] = products.apply(lambda x: np.where(x.master_product == master_products)[0][0] if not pd.isna(x.master_product) else None, axis=1)\n"
   ]
  },
  {
   "cell_type": "code",
   "execution_count": 4,
   "id": "e8e40890",
   "metadata": {},
   "outputs": [
    {
     "name": "stderr",
     "output_type": "stream",
     "text": [
      "Some layers from the model checkpoint at indobenchmark/indobert-base-p1 were not used when initializing TFBertModel: ['nsp___cls', 'mlm___cls']\n",
      "- This IS expected if you are initializing TFBertModel from the checkpoint of a model trained on another task or with another architecture (e.g. initializing a BertForSequenceClassification model from a BertForPreTraining model).\n",
      "- This IS NOT expected if you are initializing TFBertModel from the checkpoint of a model that you expect to be exactly identical (initializing a BertForSequenceClassification model from a BertForSequenceClassification model).\n",
      "All the layers of TFBertModel were initialized from the model checkpoint at indobenchmark/indobert-base-p1.\n",
      "If your task is similar to the task the model of the checkpoint was trained on, you can already use TFBertModel for predictions without further training.\n",
      "0it [00:00, ?it/s]"
     ]
    },
    {
     "name": "stdout",
     "output_type": "stream",
     "text": [
      "WARNING:tensorflow:The parameters `output_attentions`, `output_hidden_states` and `use_cache` cannot be updated when calling a model.They have to be set to True/False in the config object (i.e.: `config=XConfig.from_pretrained('name', output_attentions=True)`).\n",
      "WARNING:tensorflow:AutoGraph could not transform <bound method Socket.send of <zmq.sugar.socket.Socket object at 0x7fc6e8ee1c20>> and will run it as-is.\n",
      "Please report this to the TensorFlow team. When filing the bug, set the verbosity to 10 (on Linux, `export AUTOGRAPH_VERBOSITY=10`) and attach the full output.\n",
      "Cause: module, class, method, function, traceback, frame, or code object was expected, got cython_function_or_method\n",
      "To silence this warning, decorate the function with @tf.autograph.experimental.do_not_convert\n",
      "WARNING: AutoGraph could not transform <bound method Socket.send of <zmq.sugar.socket.Socket object at 0x7fc6e8ee1c20>> and will run it as-is.\n",
      "Please report this to the TensorFlow team. When filing the bug, set the verbosity to 10 (on Linux, `export AUTOGRAPH_VERBOSITY=10`) and attach the full output.\n",
      "Cause: module, class, method, function, traceback, frame, or code object was expected, got cython_function_or_method\n",
      "To silence this warning, decorate the function with @tf.autograph.experimental.do_not_convert\n",
      "WARNING:tensorflow:The parameter `return_dict` cannot be set in graph mode and will always be set to `True`.\n",
      "WARNING:tensorflow:From /opt/conda/lib/python3.7/site-packages/tensorflow/python/ops/array_ops.py:5049: calling gather (from tensorflow.python.ops.array_ops) with validate_indices is deprecated and will be removed in a future version.\n",
      "Instructions for updating:\n",
      "The `validate_indices` argument has no effect. Indices are always validated on CPU and never validated on GPU.\n"
     ]
    },
    {
     "name": "stderr",
     "output_type": "stream",
     "text": [
      "1it [00:08,  8.80s/it]\n",
      "845it [00:00, 30449.65it/s]\n"
     ]
    }
   ],
   "source": [
    "from preprocessing.feature_extraction import make_features_index\n",
    "index = make_features_index('indobenchmark/indobert-base-p1', matching_products)"
   ]
  },
  {
   "cell_type": "code",
   "execution_count": 7,
   "id": "c4319355",
   "metadata": {},
   "outputs": [],
   "source": [
    "matches = []\n",
    "for i, prod in tqdm(matching_products.iterrows()):\n",
    "    nn = index.get_nns_by_item(i, 10)\n",
    "    nn = [n for n in nn if matching_products[matching_products.index == n].iloc[0].master_product != prod.master_product]\n",
    "    for idx in nn:\n",
    "        matches.append({\n",
    "            \"sent1\": prod['name'],\n",
    "            \"sent2\": matching_products.iloc[idx].master_product,\n",
    "            \"match\": 0\n",
    "        })\n",
    "    matches.append({\n",
    "        \"sent1\": prod['name'],\n",
    "        \"sent2\": prod.master_product,\n",
    "        \"match\": 1\n",
    "    })\n",
    "matches = pd.DataFrame(matches)\n",
    "matches.to_csv('../data/oneshot_matches.csv')"
   ]
  },
  {
   "cell_type": "code",
   "execution_count": 3,
   "id": "a7e47a0f",
   "metadata": {},
   "outputs": [],
   "source": [
    "matches = pd.read_csv('../data/oneshot_matches.csv')"
   ]
  },
  {
   "cell_type": "code",
   "execution_count": 22,
   "id": "5d44e000",
   "metadata": {},
   "outputs": [],
   "source": [
    "train, test = train_test_split(matches, test_size=0.2)\n",
    "test, val = train_test_split(test, test_size=0.5)"
   ]
  },
  {
   "cell_type": "code",
   "execution_count": 30,
   "id": "4306fb1b",
   "metadata": {},
   "outputs": [
    {
     "name": "stderr",
     "output_type": "stream",
     "text": [
      "Some weights of the PyTorch model were not used when initializing the TF 2.0 model TFBertForSequenceClassification: ['bert.embeddings.position_ids']\n",
      "- This IS expected if you are initializing TFBertForSequenceClassification from a PyTorch model trained on another task or with another architecture (e.g. initializing a TFBertForSequenceClassification model from a BertForPreTraining model).\n",
      "- This IS NOT expected if you are initializing TFBertForSequenceClassification from a PyTorch model that you expect to be exactly identical (e.g. initializing a TFBertForSequenceClassification model from a BertForSequenceClassification model).\n",
      "Some weights or buffers of the TF 2.0 model TFBertForSequenceClassification were not initialized from the PyTorch model and are newly initialized: ['bert.pooler.dense.weight', 'bert.pooler.dense.bias', 'classifier.weight', 'classifier.bias']\n",
      "You should probably TRAIN this model on a down-stream task to be able to use it for predictions and inference.\n"
     ]
    }
   ],
   "source": [
    "lm = 'indobenchmark/indobert-base-p1'\n",
    "config = BertConfig.from_pretrained(lm, num_labels=2)  \n",
    "model = TFAutoModelForSequenceClassification.from_pretrained('out/checkpoint-17500', config=config, from_pt=True)\n",
    "tokenizer = AutoTokenizer.from_pretrained(lm)"
   ]
  },
  {
   "cell_type": "code",
   "execution_count": 31,
   "id": "1db9eb47",
   "metadata": {},
   "outputs": [],
   "source": [
    "optimizer = tf.keras.optimizers.Adam(learning_rate=2e-5)\n",
    "model.compile(optimizer=optimizer, loss=tf.keras.losses.SparseCategoricalCrossentropy(from_logits=True), metrics=['accuracy'])"
   ]
  },
  {
   "cell_type": "code",
   "execution_count": 45,
   "id": "b4f1ffb6",
   "metadata": {},
   "outputs": [],
   "source": [
    "from utils.utils import make_dataset\n",
    "train_dataset = make_dataset(train, tokenizer)\n",
    "val_dataset = make_dataset(val, tokenizer)\n",
    "test_dataset = make_dataset(test, tokenizer)"
   ]
  },
  {
   "cell_type": "code",
   "execution_count": 42,
   "id": "ef3dc7b6",
   "metadata": {},
   "outputs": [
    {
     "name": "stdout",
     "output_type": "stream",
     "text": [
      "Epoch 1/2\n",
      "91/91 [==============================] - 87s 954ms/step - loss: 0.1913 - accuracy: 0.9296 - val_loss: 0.1601 - val_accuracy: 0.9252\n",
      "Epoch 2/2\n",
      "91/91 [==============================] - 87s 953ms/step - loss: 0.1433 - accuracy: 0.9487 - val_loss: 0.1750 - val_accuracy: 0.9252\n"
     ]
    },
    {
     "data": {
      "text/plain": [
       "<tensorflow.python.keras.callbacks.History at 0x7f31405a4350>"
      ]
     },
     "execution_count": 42,
     "metadata": {},
     "output_type": "execute_result"
    }
   ],
   "source": [
    "model.fit(\n",
    "    train_dataset.shuffle(len(train_dataset)).batch(32), epochs=4, \n",
    "    batch_size=32, validation_data=val_dataset.shuffle(len(val_dataset)).batch(32),\n",
    ")"
   ]
  },
  {
   "cell_type": "code",
   "execution_count": 47,
   "id": "73dd8f79",
   "metadata": {},
   "outputs": [
    {
     "name": "stdout",
     "output_type": "stream",
     "text": [
      "91/91 [==============================] - 29s 314ms/step\n",
      "              precision    recall  f1-score   support\n",
      "\n",
      "           0       0.96      0.99      0.98      2232\n",
      "           1       0.98      0.85      0.91       653\n",
      "\n",
      "    accuracy                           0.96      2885\n",
      "   macro avg       0.97      0.92      0.94      2885\n",
      "weighted avg       0.96      0.96      0.96      2885\n",
      "\n"
     ]
    }
   ],
   "source": [
    "y_pred = model.predict(train_dataset.batch(32), batch_size=32, verbose=1).logits\n",
    "print(classification_report(train.match.values, np.argmax(y_pred, axis=1)))"
   ]
  },
  {
   "cell_type": "code",
   "execution_count": 50,
   "id": "9915f2b0",
   "metadata": {},
   "outputs": [],
   "source": [
    "model.save_pretrained('../models/pareto_oneshot/')"
   ]
  },
  {
   "cell_type": "code",
   "execution_count": 4,
   "id": "8492a287",
   "metadata": {},
   "outputs": [
    {
     "data": {
      "application/vnd.jupyter.widget-view+json": {
       "model_id": "485f2dc179d6451fa6495c8e6860d695",
       "version_major": 2,
       "version_minor": 0
      },
      "text/plain": [
       "Epoch:   0%|          | 0/2 [00:00<?, ?it/s]"
      ]
     },
     "metadata": {},
     "output_type": "display_data"
    },
    {
     "data": {
      "application/vnd.jupyter.widget-view+json": {
       "model_id": "87a9b3abc67e4d0896e1611c0857ec3b",
       "version_major": 2,
       "version_minor": 0
      },
      "text/plain": [
       "Iteration:   0%|          | 0/113 [00:00<?, ?it/s]"
      ]
     },
     "metadata": {},
     "output_type": "display_data"
    },
    {
     "data": {
      "application/vnd.jupyter.widget-view+json": {
       "model_id": "2ea2f0b857134801ae38fd6aba7c60e9",
       "version_major": 2,
       "version_minor": 0
      },
      "text/plain": [
       "Iteration:   0%|          | 0/113 [00:00<?, ?it/s]"
      ]
     },
     "metadata": {},
     "output_type": "display_data"
    }
   ],
   "source": [
    "from blocking.train_blocker import train_blocker, create_sbert_model\n",
    "lm = 'indobenchmark/indobert-base-p1'\n",
    "sbert = train_blocker(lm, matches=matches)"
   ]
  },
  {
   "cell_type": "code",
   "execution_count": 7,
   "id": "2a95c825",
   "metadata": {},
   "outputs": [],
   "source": [
    "torch.save(sbert.state_dict(), '../models/pareto_oneshot_sbert.pt')"
   ]
  },
  {
   "cell_type": "code",
   "execution_count": null,
   "id": "21ef9d8a",
   "metadata": {},
   "outputs": [],
   "source": [
    "sbert = create_sbert_model(lm)\n",
    "sbert.load_state_dict(torch.load('../models/pareto_oneshot_sbert.pt'))"
   ]
  },
  {
   "cell_type": "code",
   "execution_count": 19,
   "id": "ddabdaec",
   "metadata": {},
   "outputs": [
    {
     "data": {
      "text/plain": [
       "True"
      ]
     },
     "execution_count": 19,
     "metadata": {},
     "output_type": "execute_result"
    }
   ],
   "source": [
    "sbert_index = AnnoyIndex(768)\n",
    "embedding = sbert.encode(products['name'].values)\n",
    "for i, vec in enumerate(embedding):\n",
    "    sbert_index.add_item(i, vec)\n",
    "sbert_index.build(10)\n",
    "sbert_index.save('index/oneshot_sbert.ann')"
   ]
  },
  {
   "cell_type": "code",
   "execution_count": 20,
   "id": "5b4c0b67",
   "metadata": {},
   "outputs": [
    {
     "name": "stderr",
     "output_type": "stream",
     "text": [
      "/opt/conda/lib/python3.7/site-packages/ipykernel_launcher.py:1: FutureWarning: The default argument for metric will be removed in future version of Annoy. Please pass metric='angular' explicitly.\n",
      "  \"\"\"Entry point for launching an IPython kernel.\n"
     ]
    },
    {
     "data": {
      "text/plain": [
       "True"
      ]
     },
     "execution_count": 20,
     "metadata": {},
     "output_type": "execute_result"
    }
   ],
   "source": [
    "sbert_index = AnnoyIndex(768)\n",
    "sbert_index.load('index/oneshot_sbert.ann')"
   ]
  },
  {
   "cell_type": "code",
   "execution_count": 55,
   "id": "00075650",
   "metadata": {},
   "outputs": [
    {
     "data": {
      "text/plain": [
       "(array([55]),)"
      ]
     },
     "execution_count": 55,
     "metadata": {},
     "output_type": "execute_result"
    }
   ],
   "source": [
    "np.where(master_products == \"Zee Platinum Kidz Powdered Vanilla Milk\")"
   ]
  },
  {
   "cell_type": "code",
   "execution_count": 58,
   "id": "6c901cf4",
   "metadata": {},
   "outputs": [
    {
     "name": "stderr",
     "output_type": "stream",
     "text": [
      "5542it [00:11, 491.46it/s]\n"
     ]
    }
   ],
   "source": [
    "only_masters = products[products.master_product.notnull()]\n",
    "candid_matches = []\n",
    "for i, prod in tqdm(products.iterrows()):\n",
    "    nn = sbert_index.get_nns_by_item(i, 100)\n",
    "    nn = [n for n in nn if n in only_masters.index][:10]\n",
    "    for idx in nn:\n",
    "        mp = products.iloc[idx].master_product\n",
    "        candid_matches.append({\n",
    "            \"id1\": prod.id,\n",
    "            \"id2\": np.where(master_products == mp)[0][0],\n",
    "            \"sent1\": prod['name'],\n",
    "            \"sent2\": mp,\n",
    "        })\n",
    "candid_matches = pd.DataFrame(candid_matches)\n",
    "candid_matches = candid_matches.dropna(subset=['sent1', 'sent2'])\n",
    "candid_matches.to_csv('../data/oneshot_candid.csv')"
   ]
  },
  {
   "cell_type": "code",
   "execution_count": 44,
   "id": "5ba1b68a",
   "metadata": {},
   "outputs": [],
   "source": [
    "candid_matches = pd.read_csv('../data/oneshot_candid.csv')"
   ]
  },
  {
   "cell_type": "code",
   "execution_count": 25,
   "id": "4d1de2e2",
   "metadata": {},
   "outputs": [
    {
     "name": "stderr",
     "output_type": "stream",
     "text": [
      "Some layers from the model checkpoint at ../models/pareto_oneshot/ were not used when initializing TFBertForSequenceClassification: ['dropout_74']\n",
      "- This IS expected if you are initializing TFBertForSequenceClassification from the checkpoint of a model trained on another task or with another architecture (e.g. initializing a BertForSequenceClassification model from a BertForPreTraining model).\n",
      "- This IS NOT expected if you are initializing TFBertForSequenceClassification from the checkpoint of a model that you expect to be exactly identical (initializing a BertForSequenceClassification model from a BertForSequenceClassification model).\n",
      "All the layers of TFBertForSequenceClassification were initialized from the model checkpoint at ../models/pareto_oneshot/.\n",
      "If your task is similar to the task the model of the checkpoint was trained on, you can already use TFBertForSequenceClassification for predictions without further training.\n"
     ]
    }
   ],
   "source": [
    "lm = 'indobenchmark/indobert-base-p1'\n",
    "config = BertConfig.from_pretrained(lm, num_labels=2)  \n",
    "model = TFAutoModelForSequenceClassification.from_pretrained('../models/pareto_oneshot/', config=config)\n",
    "tokenizer = AutoTokenizer.from_pretrained(lm)"
   ]
  },
  {
   "cell_type": "code",
   "execution_count": 60,
   "id": "034af8c6",
   "metadata": {},
   "outputs": [],
   "source": [
    "from utils.utils import make_dataset\n",
    "match_dataset = make_dataset(candid_matches, tokenizer)"
   ]
  },
  {
   "cell_type": "code",
   "execution_count": 141,
   "id": "20118e2b",
   "metadata": {},
   "outputs": [],
   "source": [
    "from tensorflow.nn import softmax\n",
    "# match_logits = softmax(model.predict(match_dataset.batch(32), verbose=1).logits).numpy()\n",
    "# match_probs = match_logits[:, 1]\n",
    "match_results = [p > 0.7 for p in match_probs]"
   ]
  },
  {
   "cell_type": "code",
   "execution_count": 145,
   "id": "d9aaea34",
   "metadata": {},
   "outputs": [
    {
     "name": "stderr",
     "output_type": "stream",
     "text": [
      "5542it [00:06, 857.19it/s]\n"
     ]
    }
   ],
   "source": [
    "match_preds = pd.DataFrame({'id': candid_matches.id1, 'master_product': candid_matches.id2, 'match': match_results, 'prob': match_probs})\n",
    "master_product_results = []\n",
    "for i, prod in tqdm(products.iterrows()):\n",
    "    predictions = match_preds[match_preds.id == prod.id]\n",
    "    predictions = predictions[predictions.match]\n",
    "    if len(predictions) == 0:\n",
    "        continue\n",
    "\n",
    "    use_prediction = predictions.iloc[np.argmax(predictions.prob.values)]\n",
    "    master_product_results.append({\n",
    "        \"product_id\": prod.id,\n",
    "        \"master_product_pred_id\": use_prediction.master_product,\n",
    "        \"master_product_pred\": master_products[use_prediction.master_product],\n",
    "        \"master_product_actual\": prod.master_product,\n",
    "        \"master_product_actual_id\": prod.master_product_id,\n",
    "        \"prob\": use_prediction.prob\n",
    "    })\n",
    "master_product_results = pd.DataFrame(master_product_results)"
   ]
  },
  {
   "cell_type": "code",
   "execution_count": 146,
   "id": "702d64f7",
   "metadata": {},
   "outputs": [
    {
     "data": {
      "text/html": [
       "<div>\n",
       "<style scoped>\n",
       "    .dataframe tbody tr th:only-of-type {\n",
       "        vertical-align: middle;\n",
       "    }\n",
       "\n",
       "    .dataframe tbody tr th {\n",
       "        vertical-align: top;\n",
       "    }\n",
       "\n",
       "    .dataframe thead th {\n",
       "        text-align: right;\n",
       "    }\n",
       "</style>\n",
       "<table border=\"1\" class=\"dataframe\">\n",
       "  <thead>\n",
       "    <tr style=\"text-align: right;\">\n",
       "      <th></th>\n",
       "      <th>product_id</th>\n",
       "      <th>master_product_pred_id</th>\n",
       "      <th>master_product_pred</th>\n",
       "      <th>master_product_actual</th>\n",
       "      <th>master_product_actual_id</th>\n",
       "      <th>prob</th>\n",
       "    </tr>\n",
       "  </thead>\n",
       "  <tbody>\n",
       "    <tr>\n",
       "      <th>0</th>\n",
       "      <td>5.228522e+08</td>\n",
       "      <td>11</td>\n",
       "      <td>Anlene Gold Chocolate Milk Powder 51 Years</td>\n",
       "      <td>NaN</td>\n",
       "      <td>NaN</td>\n",
       "      <td>0.709275</td>\n",
       "    </tr>\n",
       "    <tr>\n",
       "      <th>1</th>\n",
       "      <td>8.662367e+08</td>\n",
       "      <td>1</td>\n",
       "      <td>Bear Brand Gold White Malt Sterilized Milk</td>\n",
       "      <td>Bear Brand Gold White Malt Sterilized Milk</td>\n",
       "      <td>1.0</td>\n",
       "      <td>0.951578</td>\n",
       "    </tr>\n",
       "    <tr>\n",
       "      <th>2</th>\n",
       "      <td>8.662300e+08</td>\n",
       "      <td>2</td>\n",
       "      <td>Bear Brand Gold White Tea Sterilized Milk</td>\n",
       "      <td>Bear Brand Gold White Tea Sterilized Milk</td>\n",
       "      <td>2.0</td>\n",
       "      <td>0.800559</td>\n",
       "    </tr>\n",
       "    <tr>\n",
       "      <th>3</th>\n",
       "      <td>1.524497e+09</td>\n",
       "      <td>3</td>\n",
       "      <td>Bear Brand Sterilized Milk</td>\n",
       "      <td>Bear Brand Sterilized Milk</td>\n",
       "      <td>3.0</td>\n",
       "      <td>0.996810</td>\n",
       "    </tr>\n",
       "    <tr>\n",
       "      <th>4</th>\n",
       "      <td>1.543150e+09</td>\n",
       "      <td>3</td>\n",
       "      <td>Bear Brand Sterilized Milk</td>\n",
       "      <td>NaN</td>\n",
       "      <td>NaN</td>\n",
       "      <td>0.990962</td>\n",
       "    </tr>\n",
       "    <tr>\n",
       "      <th>...</th>\n",
       "      <td>...</td>\n",
       "      <td>...</td>\n",
       "      <td>...</td>\n",
       "      <td>...</td>\n",
       "      <td>...</td>\n",
       "      <td>...</td>\n",
       "    </tr>\n",
       "    <tr>\n",
       "      <th>1599</th>\n",
       "      <td>2.647240e+08</td>\n",
       "      <td>50</td>\n",
       "      <td>Ultra Milk Chocolate UHT Milk</td>\n",
       "      <td>Ultra Milk Chocolate UHT Milk</td>\n",
       "      <td>50.0</td>\n",
       "      <td>0.924581</td>\n",
       "    </tr>\n",
       "    <tr>\n",
       "      <th>1600</th>\n",
       "      <td>7.672856e+08</td>\n",
       "      <td>48</td>\n",
       "      <td>Ovaltine Milk Chocolate Drink</td>\n",
       "      <td>NaN</td>\n",
       "      <td>NaN</td>\n",
       "      <td>0.784786</td>\n",
       "    </tr>\n",
       "    <tr>\n",
       "      <th>1601</th>\n",
       "      <td>3.066684e+08</td>\n",
       "      <td>22</td>\n",
       "      <td>Diamond Full Cream UHT Milk</td>\n",
       "      <td>NaN</td>\n",
       "      <td>NaN</td>\n",
       "      <td>0.895300</td>\n",
       "    </tr>\n",
       "    <tr>\n",
       "      <th>1602</th>\n",
       "      <td>8.481935e+08</td>\n",
       "      <td>55</td>\n",
       "      <td>Zee Platinum Kidz Powdered Vanilla Milk</td>\n",
       "      <td>NaN</td>\n",
       "      <td>NaN</td>\n",
       "      <td>0.815013</td>\n",
       "    </tr>\n",
       "    <tr>\n",
       "      <th>1603</th>\n",
       "      <td>1.880257e+09</td>\n",
       "      <td>55</td>\n",
       "      <td>Zee Platinum Kidz Powdered Vanilla Milk</td>\n",
       "      <td>Zee Platinum Kidz Powdered Vanilla Milk</td>\n",
       "      <td>55.0</td>\n",
       "      <td>0.783313</td>\n",
       "    </tr>\n",
       "  </tbody>\n",
       "</table>\n",
       "<p>1604 rows × 6 columns</p>\n",
       "</div>"
      ],
      "text/plain": [
       "        product_id  master_product_pred_id  \\\n",
       "0     5.228522e+08                      11   \n",
       "1     8.662367e+08                       1   \n",
       "2     8.662300e+08                       2   \n",
       "3     1.524497e+09                       3   \n",
       "4     1.543150e+09                       3   \n",
       "...            ...                     ...   \n",
       "1599  2.647240e+08                      50   \n",
       "1600  7.672856e+08                      48   \n",
       "1601  3.066684e+08                      22   \n",
       "1602  8.481935e+08                      55   \n",
       "1603  1.880257e+09                      55   \n",
       "\n",
       "                             master_product_pred  \\\n",
       "0     Anlene Gold Chocolate Milk Powder 51 Years   \n",
       "1     Bear Brand Gold White Malt Sterilized Milk   \n",
       "2      Bear Brand Gold White Tea Sterilized Milk   \n",
       "3                     Bear Brand Sterilized Milk   \n",
       "4                     Bear Brand Sterilized Milk   \n",
       "...                                          ...   \n",
       "1599               Ultra Milk Chocolate UHT Milk   \n",
       "1600               Ovaltine Milk Chocolate Drink   \n",
       "1601                 Diamond Full Cream UHT Milk   \n",
       "1602     Zee Platinum Kidz Powdered Vanilla Milk   \n",
       "1603     Zee Platinum Kidz Powdered Vanilla Milk   \n",
       "\n",
       "                           master_product_actual  master_product_actual_id  \\\n",
       "0                                            NaN                       NaN   \n",
       "1     Bear Brand Gold White Malt Sterilized Milk                       1.0   \n",
       "2      Bear Brand Gold White Tea Sterilized Milk                       2.0   \n",
       "3                     Bear Brand Sterilized Milk                       3.0   \n",
       "4                                            NaN                       NaN   \n",
       "...                                          ...                       ...   \n",
       "1599               Ultra Milk Chocolate UHT Milk                      50.0   \n",
       "1600                                         NaN                       NaN   \n",
       "1601                                         NaN                       NaN   \n",
       "1602                                         NaN                       NaN   \n",
       "1603     Zee Platinum Kidz Powdered Vanilla Milk                      55.0   \n",
       "\n",
       "          prob  \n",
       "0     0.709275  \n",
       "1     0.951578  \n",
       "2     0.800559  \n",
       "3     0.996810  \n",
       "4     0.990962  \n",
       "...        ...  \n",
       "1599  0.924581  \n",
       "1600  0.784786  \n",
       "1601  0.895300  \n",
       "1602  0.815013  \n",
       "1603  0.783313  \n",
       "\n",
       "[1604 rows x 6 columns]"
      ]
     },
     "execution_count": 146,
     "metadata": {},
     "output_type": "execute_result"
    }
   ],
   "source": [
    "master_product_results"
   ]
  },
  {
   "cell_type": "code",
   "execution_count": 133,
   "id": "c31bc252",
   "metadata": {},
   "outputs": [
    {
     "data": {
      "text/plain": [
       "0.9886524822695035"
      ]
     },
     "execution_count": 133,
     "metadata": {},
     "output_type": "execute_result"
    }
   ],
   "source": [
    "only_masters = master_product_results.dropna(subset=['master_product_actual_id'])\n",
    "is_match = [(m.master_product_pred == m.master_product_actual) for (i, m) in only_masters.iterrows()]\n",
    "acc = len(only_masters[is_match]) / len(only_masters)\n",
    "acc"
   ]
  },
  {
   "cell_type": "code",
   "execution_count": 149,
   "id": "daa7997b",
   "metadata": {},
   "outputs": [],
   "source": [
    "master_product_merged = master_product_results.merge(products.rename(columns={'id': 'product_id'})[['product_id','name', 'price']], how='left')\n",
    "master_product_merged['product_id'] = master_product_merged['product_id'].astype(int)\n",
    "master_product_merged['price'] = master_product_merged['price'].astype(int)\n",
    "master_product_merged.to_csv('../data/oneshot_results.csv')"
   ]
  },
  {
   "cell_type": "code",
   "execution_count": 150,
   "id": "d6902cca",
   "metadata": {},
   "outputs": [
    {
     "data": {
      "text/html": [
       "<div>\n",
       "<style scoped>\n",
       "    .dataframe tbody tr th:only-of-type {\n",
       "        vertical-align: middle;\n",
       "    }\n",
       "\n",
       "    .dataframe tbody tr th {\n",
       "        vertical-align: top;\n",
       "    }\n",
       "\n",
       "    .dataframe thead th {\n",
       "        text-align: right;\n",
       "    }\n",
       "</style>\n",
       "<table border=\"1\" class=\"dataframe\">\n",
       "  <thead>\n",
       "    <tr style=\"text-align: right;\">\n",
       "      <th></th>\n",
       "      <th>product_id</th>\n",
       "      <th>master_product_pred_id</th>\n",
       "      <th>master_product_pred</th>\n",
       "      <th>master_product_actual</th>\n",
       "      <th>master_product_actual_id</th>\n",
       "      <th>prob</th>\n",
       "      <th>name</th>\n",
       "      <th>price</th>\n",
       "    </tr>\n",
       "  </thead>\n",
       "  <tbody>\n",
       "    <tr>\n",
       "      <th>0</th>\n",
       "      <td>522852231</td>\n",
       "      <td>11</td>\n",
       "      <td>Anlene Gold Chocolate Milk Powder 51 Years</td>\n",
       "      <td>NaN</td>\n",
       "      <td>NaN</td>\n",
       "      <td>0.709275</td>\n",
       "      <td>ANLENE ACTIFIT COKLAT 600 GR</td>\n",
       "      <td>64500</td>\n",
       "    </tr>\n",
       "    <tr>\n",
       "      <th>1</th>\n",
       "      <td>866236725</td>\n",
       "      <td>1</td>\n",
       "      <td>Bear Brand Gold White Malt Sterilized Milk</td>\n",
       "      <td>Bear Brand Gold White Malt Sterilized Milk</td>\n",
       "      <td>1.0</td>\n",
       "      <td>0.951578</td>\n",
       "      <td>(1 dus = 24 pcs) Susu Beruang Bear Brand Gold ...</td>\n",
       "      <td>209000</td>\n",
       "    </tr>\n",
       "    <tr>\n",
       "      <th>2</th>\n",
       "      <td>866229955</td>\n",
       "      <td>2</td>\n",
       "      <td>Bear Brand Gold White Tea Sterilized Milk</td>\n",
       "      <td>Bear Brand Gold White Tea Sterilized Milk</td>\n",
       "      <td>2.0</td>\n",
       "      <td>0.800559</td>\n",
       "      <td>(1 dus = 24 pcs) Susu Beruang Bear Brand White...</td>\n",
       "      <td>209000</td>\n",
       "    </tr>\n",
       "    <tr>\n",
       "      <th>3</th>\n",
       "      <td>1524496976</td>\n",
       "      <td>3</td>\n",
       "      <td>Bear Brand Sterilized Milk</td>\n",
       "      <td>Bear Brand Sterilized Milk</td>\n",
       "      <td>3.0</td>\n",
       "      <td>0.996810</td>\n",
       "      <td>1 Karton / Dus (30 pcs) Susu Beruang Nestle Be...</td>\n",
       "      <td>254500</td>\n",
       "    </tr>\n",
       "    <tr>\n",
       "      <th>4</th>\n",
       "      <td>1543150207</td>\n",
       "      <td>3</td>\n",
       "      <td>Bear Brand Sterilized Milk</td>\n",
       "      <td>NaN</td>\n",
       "      <td>NaN</td>\n",
       "      <td>0.990962</td>\n",
       "      <td>12 kaleng Bear Brand thailand susu beruang mur...</td>\n",
       "      <td>114900</td>\n",
       "    </tr>\n",
       "    <tr>\n",
       "      <th>...</th>\n",
       "      <td>...</td>\n",
       "      <td>...</td>\n",
       "      <td>...</td>\n",
       "      <td>...</td>\n",
       "      <td>...</td>\n",
       "      <td>...</td>\n",
       "      <td>...</td>\n",
       "      <td>...</td>\n",
       "    </tr>\n",
       "    <tr>\n",
       "      <th>1599</th>\n",
       "      <td>264724032</td>\n",
       "      <td>50</td>\n",
       "      <td>Ultra Milk Chocolate UHT Milk</td>\n",
       "      <td>Ultra Milk Chocolate UHT Milk</td>\n",
       "      <td>50.0</td>\n",
       "      <td>0.924581</td>\n",
       "      <td>ultramilk 125ml perdus isi 40pcs.gojek only - ...</td>\n",
       "      <td>98000</td>\n",
       "    </tr>\n",
       "    <tr>\n",
       "      <th>1600</th>\n",
       "      <td>767285606</td>\n",
       "      <td>48</td>\n",
       "      <td>Ovaltine Milk Chocolate Drink</td>\n",
       "      <td>NaN</td>\n",
       "      <td>NaN</td>\n",
       "      <td>0.784786</td>\n",
       "      <td>whey protein susu rasa coklat/plain 1kg</td>\n",
       "      <td>129000</td>\n",
       "    </tr>\n",
       "    <tr>\n",
       "      <th>1601</th>\n",
       "      <td>306668366</td>\n",
       "      <td>22</td>\n",
       "      <td>Diamond Full Cream UHT Milk</td>\n",
       "      <td>NaN</td>\n",
       "      <td>NaN</td>\n",
       "      <td>0.895300</td>\n",
       "      <td>Whipping Cream Anchor 1 Ltr</td>\n",
       "      <td>83000</td>\n",
       "    </tr>\n",
       "    <tr>\n",
       "      <th>1602</th>\n",
       "      <td>848193546</td>\n",
       "      <td>55</td>\n",
       "      <td>Zee Platinum Kidz Powdered Vanilla Milk</td>\n",
       "      <td>NaN</td>\n",
       "      <td>NaN</td>\n",
       "      <td>0.815013</td>\n",
       "      <td>Zee renceng cokelat10 sachet</td>\n",
       "      <td>21999</td>\n",
       "    </tr>\n",
       "    <tr>\n",
       "      <th>1603</th>\n",
       "      <td>1880256522</td>\n",
       "      <td>55</td>\n",
       "      <td>Zee Platinum Kidz Powdered Vanilla Milk</td>\n",
       "      <td>Zee Platinum Kidz Powdered Vanilla Milk</td>\n",
       "      <td>55.0</td>\n",
       "      <td>0.783313</td>\n",
       "      <td>Zee Susu Anak sachet 40gr x 10 Sachet / Susu Z...</td>\n",
       "      <td>23200</td>\n",
       "    </tr>\n",
       "  </tbody>\n",
       "</table>\n",
       "<p>1604 rows × 8 columns</p>\n",
       "</div>"
      ],
      "text/plain": [
       "      product_id  master_product_pred_id  \\\n",
       "0      522852231                      11   \n",
       "1      866236725                       1   \n",
       "2      866229955                       2   \n",
       "3     1524496976                       3   \n",
       "4     1543150207                       3   \n",
       "...          ...                     ...   \n",
       "1599   264724032                      50   \n",
       "1600   767285606                      48   \n",
       "1601   306668366                      22   \n",
       "1602   848193546                      55   \n",
       "1603  1880256522                      55   \n",
       "\n",
       "                             master_product_pred  \\\n",
       "0     Anlene Gold Chocolate Milk Powder 51 Years   \n",
       "1     Bear Brand Gold White Malt Sterilized Milk   \n",
       "2      Bear Brand Gold White Tea Sterilized Milk   \n",
       "3                     Bear Brand Sterilized Milk   \n",
       "4                     Bear Brand Sterilized Milk   \n",
       "...                                          ...   \n",
       "1599               Ultra Milk Chocolate UHT Milk   \n",
       "1600               Ovaltine Milk Chocolate Drink   \n",
       "1601                 Diamond Full Cream UHT Milk   \n",
       "1602     Zee Platinum Kidz Powdered Vanilla Milk   \n",
       "1603     Zee Platinum Kidz Powdered Vanilla Milk   \n",
       "\n",
       "                           master_product_actual  master_product_actual_id  \\\n",
       "0                                            NaN                       NaN   \n",
       "1     Bear Brand Gold White Malt Sterilized Milk                       1.0   \n",
       "2      Bear Brand Gold White Tea Sterilized Milk                       2.0   \n",
       "3                     Bear Brand Sterilized Milk                       3.0   \n",
       "4                                            NaN                       NaN   \n",
       "...                                          ...                       ...   \n",
       "1599               Ultra Milk Chocolate UHT Milk                      50.0   \n",
       "1600                                         NaN                       NaN   \n",
       "1601                                         NaN                       NaN   \n",
       "1602                                         NaN                       NaN   \n",
       "1603     Zee Platinum Kidz Powdered Vanilla Milk                      55.0   \n",
       "\n",
       "          prob                                               name   price  \n",
       "0     0.709275                       ANLENE ACTIFIT COKLAT 600 GR   64500  \n",
       "1     0.951578  (1 dus = 24 pcs) Susu Beruang Bear Brand Gold ...  209000  \n",
       "2     0.800559  (1 dus = 24 pcs) Susu Beruang Bear Brand White...  209000  \n",
       "3     0.996810  1 Karton / Dus (30 pcs) Susu Beruang Nestle Be...  254500  \n",
       "4     0.990962  12 kaleng Bear Brand thailand susu beruang mur...  114900  \n",
       "...        ...                                                ...     ...  \n",
       "1599  0.924581  ultramilk 125ml perdus isi 40pcs.gojek only - ...   98000  \n",
       "1600  0.784786            whey protein susu rasa coklat/plain 1kg  129000  \n",
       "1601  0.895300                        Whipping Cream Anchor 1 Ltr   83000  \n",
       "1602  0.815013                       Zee renceng cokelat10 sachet   21999  \n",
       "1603  0.783313  Zee Susu Anak sachet 40gr x 10 Sachet / Susu Z...   23200  \n",
       "\n",
       "[1604 rows x 8 columns]"
      ]
     },
     "execution_count": 150,
     "metadata": {},
     "output_type": "execute_result"
    }
   ],
   "source": [
    "master_product_merged"
   ]
  }
 ],
 "metadata": {
  "environment": {
   "name": "tf2-gpu.2-5.m74",
   "type": "gcloud",
   "uri": "gcr.io/deeplearning-platform-release/tf2-gpu.2-5:m74"
  },
  "kernelspec": {
   "display_name": "Python 3",
   "language": "python",
   "name": "python3"
  },
  "language_info": {
   "codemirror_mode": {
    "name": "ipython",
    "version": 3
   },
   "file_extension": ".py",
   "mimetype": "text/x-python",
   "name": "python",
   "nbconvert_exporter": "python",
   "pygments_lexer": "ipython3",
   "version": "3.7.10"
  }
 },
 "nbformat": 4,
 "nbformat_minor": 5
}
