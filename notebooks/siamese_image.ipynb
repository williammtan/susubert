{
 "cells": [
  {
   "cell_type": "code",
   "execution_count": 65,
   "id": "e7ab4600",
   "metadata": {},
   "outputs": [],
   "source": [
    "import pandas as pd\n",
    "import numpy as np\n",
    "\n",
    "import tensorflow as tf\n",
    "from annoy import AnnoyIndex\n",
    "\n",
    "import sys\n",
    "import os\n",
    "from tqdm import tqdm\n",
    "import matplotlib.pyplot as plt\n",
    "import cv2\n",
    "\n",
    "sys.path.append('../src')"
   ]
  },
  {
   "cell_type": "markdown",
   "id": "5f5949e9",
   "metadata": {},
   "source": [
    "## Import data"
   ]
  },
  {
   "cell_type": "code",
   "execution_count": 66,
   "id": "fdb27466",
   "metadata": {},
   "outputs": [
    {
     "name": "stderr",
     "output_type": "stream",
     "text": [
      "100%|██████████| 13631/13631 [00:00<00:00, 15034.31it/s]\n"
     ]
    }
   ],
   "source": [
    "images = pd.read_csv(\"../data/pareto_images/images.csv\")\n",
    "images['product_id'] = images.product_id.astype(str)\n",
    "\n",
    "for i, image in tqdm(images.iterrows(), total=len(images)):\n",
    "    fname = image.filename\n",
    "    split = fname.split('.')\n",
    "    if len(split) != 2 or split[-1] != 'jpg':\n",
    "        new_fname = f\"{split[0]}.jpg\"\n",
    "        images.loc[i, \"filename\"] = new_fname"
   ]
  },
  {
   "cell_type": "code",
   "execution_count": 67,
   "id": "df1ab608",
   "metadata": {},
   "outputs": [],
   "source": [
    "products = pd.read_csv('../data/pareto_training.csv')\n",
    "products = products.dropna(subset=['id'])\n",
    "products['id'] = products.id.astype(int).astype(str)\n",
    "products = products[products.apply(lambda x: len(images[images.product_id == x.id]) > 0, axis=1)]"
   ]
  },
  {
   "cell_type": "code",
   "execution_count": 68,
   "id": "b0c86a9d",
   "metadata": {},
   "outputs": [],
   "source": [
    "products['image_filename'] = products.apply(lambda x: images[images.product_id == x.id].iloc[0].filename, axis=1) # select first occurence of image\n",
    "products['image_media_url'] = products.apply(lambda x: images[images.product_id == x.id].iloc[0].media_url, axis=1)\n",
    "products['image_id'] = products.apply(lambda x: images[images.product_id == x.id].iloc[0].id, axis=1)"
   ]
  },
  {
   "cell_type": "code",
   "execution_count": 69,
   "id": "efc01cdb",
   "metadata": {},
   "outputs": [],
   "source": [
    "matching_products = products.dropna(subset=['master_product'])\n",
    "matching_products = matching_products.reset_index(drop=True)\n",
    "master_products = matching_products.master_product_fill.unique()\n",
    "matching_products['master_product_fill'] = matching_products.apply(lambda x: np.where(x.master_product_fill == master_products)[0][0], axis=1)"
   ]
  },
  {
   "cell_type": "code",
   "execution_count": 8,
   "id": "4e99884a",
   "metadata": {
    "jupyter": {
     "source_hidden": true
    }
   },
   "outputs": [],
   "source": [
    "images = pd.read_csv('../data/pareto_images/results-20210629-142420.csv')"
   ]
  },
  {
   "cell_type": "code",
   "execution_count": 41,
   "id": "d9ca3ffe",
   "metadata": {
    "jupyter": {
     "source_hidden": true
    }
   },
   "outputs": [],
   "source": [
    "images = images.rename(columns={'id': 'product_id'})\n",
    "images['id'] = images.index"
   ]
  },
  {
   "cell_type": "code",
   "execution_count": 42,
   "id": "9e5acfdb",
   "metadata": {
    "jupyter": {
     "source_hidden": true
    }
   },
   "outputs": [],
   "source": [
    "images['filename'] = images.apply(lambda x: x.media_url.split('/')[-1], axis=1)"
   ]
  },
  {
   "cell_type": "code",
   "execution_count": 43,
   "id": "56a3f643",
   "metadata": {
    "collapsed": true,
    "jupyter": {
     "outputs_hidden": true,
     "source_hidden": true
    }
   },
   "outputs": [
    {
     "name": "stderr",
     "output_type": "stream",
     "text": [
      "100%|██████████| 13631/13631 [00:03<00:00, 3856.01it/s]\n"
     ]
    }
   ],
   "source": [
    "for i, image in tqdm(images.iterrows(), total=len(images)):\n",
    "    fname = image.filename\n",
    "    split = fname.split('.')\n",
    "    if len(split) != 2 or split[-1] != 'jpg':\n",
    "        new_fname = f\"{split[0]}.jpg\"\n",
    "#         print(fname, new_fname)\n",
    "        try:\n",
    "#             os.rename(os.path.join(\"../data/pareto_images/images\", fname), os.path.join(\"../data/pareto_images/images\", new_fname))\n",
    "            images.loc[i, \"filename\"] = new_fname\n",
    "        except FileNotFoundError:\n",
    "            pass"
   ]
  },
  {
   "cell_type": "code",
   "execution_count": 88,
   "id": "ccffa297",
   "metadata": {
    "jupyter": {
     "source_hidden": true
    }
   },
   "outputs": [],
   "source": [
    "images.to_csv(\"../data/pareto_images/images.csv\")"
   ]
  },
  {
   "cell_type": "markdown",
   "id": "823b0caf",
   "metadata": {},
   "source": [
    "## Preprocess\n",
    "Create annoy index using feature extraction and find batch hard negative and hard positive\n",
    "\n",
    "Train, test, split\n",
    "\n",
    "Import images using keras ImageDataGenerator and flow_from_dataframe"
   ]
  },
  {
   "cell_type": "code",
   "execution_count": 126,
   "id": "892de6a9",
   "metadata": {},
   "outputs": [],
   "source": [
    "# constants\n",
    "EPOCHS = 10\n",
    "BATCH_SIZE = 32\n",
    "INPUT_SIZE = (224,224)"
   ]
  },
  {
   "cell_type": "code",
   "execution_count": 138,
   "id": "bded8ddd",
   "metadata": {},
   "outputs": [],
   "source": [
    "# Data augmentation\n",
    "from tensorflow.keras.preprocessing.image import ImageDataGenerator\n",
    "from tensorflow.keras.applications.vgg19 import preprocess_input\n",
    "\n",
    "aug = ImageDataGenerator(\n",
    "    preprocessing_function=preprocess_input\n",
    ")"
   ]
  },
  {
   "cell_type": "code",
   "execution_count": 139,
   "id": "0e54369c",
   "metadata": {},
   "outputs": [],
   "source": [
    "# create data generator helper\n",
    "def make_datagen(df, label='id'):\n",
    "    image_gen = aug.flow_from_dataframe(\n",
    "        dataframe=df,\n",
    "        directory='../data/pareto_images/images',\n",
    "        x_col=\"image_filename\",\n",
    "        y_col=label,\n",
    "        batch_size=BATCH_SIZE,\n",
    "        shuffle=False,\n",
    "        target_size=INPUT_SIZE,\n",
    "        class_mode='raw'\n",
    "    )\n",
    "    return image_gen"
   ]
  },
  {
   "cell_type": "code",
   "execution_count": 12,
   "id": "2e4ef5d4",
   "metadata": {},
   "outputs": [
    {
     "name": "stdout",
     "output_type": "stream",
     "text": [
      "Found 495 validated image filenames.\n"
     ]
    }
   ],
   "source": [
    "# only matching products\n",
    "image_gen = make_datagen(matching_products)"
   ]
  },
  {
   "cell_type": "code",
   "execution_count": 7,
   "id": "bdd42ca9",
   "metadata": {},
   "outputs": [
    {
     "name": "stdout",
     "output_type": "stream",
     "text": [
      "Found 13344 images belonging to 1 classes.\n"
     ]
    }
   ],
   "source": [
    "# all products\n",
    "image_gen = make_datagen(products)"
   ]
  },
  {
   "cell_type": "code",
   "execution_count": 124,
   "id": "d9d50974",
   "metadata": {},
   "outputs": [
    {
     "name": "stdout",
     "output_type": "stream",
     "text": [
      "Downloading data from https://storage.googleapis.com/tensorflow/keras-applications/vgg19/vgg19_weights_tf_dim_ordering_tf_kernels.h5\n",
      "574717952/574710816 [==============================] - 9s 0us/step\n"
     ]
    }
   ],
   "source": [
    "from tensorflow.keras.applications import VGG19\n",
    "feature_model1 = VGG19(weights='imagenet')\n",
    "feature_model2 = VGG19(weights='imagenet')\n",
    "feature_model1._name = 'vgg1'\n",
    "feature_model2._name = 'vgg2'"
   ]
  },
  {
   "cell_type": "code",
   "execution_count": 138,
   "id": "53aad894",
   "metadata": {},
   "outputs": [
    {
     "name": "stdout",
     "output_type": "stream",
     "text": [
      "8/8 [==============================] - 8s 688ms/step\n"
     ]
    }
   ],
   "source": [
    "features = feature_model1.predict(image_gen, verbose=1)"
   ]
  },
  {
   "cell_type": "code",
   "execution_count": 75,
   "id": "05813d59",
   "metadata": {},
   "outputs": [],
   "source": [
    "index = AnnoyIndex(1000, 'angular')"
   ]
  },
  {
   "cell_type": "code",
   "execution_count": 146,
   "id": "466895b6",
   "metadata": {},
   "outputs": [
    {
     "name": "stderr",
     "output_type": "stream",
     "text": [
      "100%|██████████| 495/495 [00:00<00:00, 986.29it/s]\n"
     ]
    },
    {
     "data": {
      "text/plain": [
       "True"
      ]
     },
     "execution_count": 146,
     "metadata": {},
     "output_type": "execute_result"
    }
   ],
   "source": [
    "id_mapping = id_mapping = dict(zip(range(len(products.id.values)), products.id.values))\n",
    "for i in tqdm(range(features.shape[0])):\n",
    "    vec = features[i]\n",
    "    fname = image_gen.filenames[i]\n",
    "#     img = images[images.filename == fname.split('/')[-1]].iloc[0]\n",
    "    prod = products[products.image_filename == fname.split('/')[-1]].iloc[0]\n",
    "    index.add_item(i, vec.tolist())\n",
    "index.build(10)\n",
    "index.save('match_images.ann')"
   ]
  },
  {
   "cell_type": "code",
   "execution_count": 76,
   "id": "c3a30f06",
   "metadata": {},
   "outputs": [
    {
     "data": {
      "text/plain": [
       "True"
      ]
     },
     "execution_count": 76,
     "metadata": {},
     "output_type": "execute_result"
    }
   ],
   "source": [
    "index.load('match_images.ann')"
   ]
  },
  {
   "cell_type": "code",
   "execution_count": 141,
   "id": "e7aa52be",
   "metadata": {},
   "outputs": [],
   "source": [
    "def display_nns(i):\n",
    "    nn_ids, distances = index.get_nns_by_item(i, 10, include_distances=True)\n",
    "    print(nn_ids)\n",
    "    for id, dis in zip(nn_ids, distances):\n",
    "        print(dis)\n",
    "        fname = images.loc[id].filename\n",
    "        plt.imshow(cv2.imread(os.path.join(\"../data/pareto_images/images\", fname)))\n",
    "        plt.show()"
   ]
  },
  {
   "cell_type": "code",
   "execution_count": 80,
   "id": "a789513c",
   "metadata": {},
   "outputs": [],
   "source": [
    "%load_ext autoreload"
   ]
  },
  {
   "cell_type": "code",
   "execution_count": 86,
   "id": "58f72d77",
   "metadata": {},
   "outputs": [],
   "source": [
    "%autoreload 2"
   ]
  },
  {
   "cell_type": "code",
   "execution_count": 185,
   "id": "9aee8128",
   "metadata": {},
   "outputs": [
    {
     "name": "stderr",
     "output_type": "stream",
     "text": [
      "100%|██████████| 122265/122265 [02:10<00:00, 938.39it/s]\n"
     ]
    }
   ],
   "source": [
    "from preprocessing.batch_selection import batch_selection\n",
    "match_df = batch_selection(matching_products, index)"
   ]
  },
  {
   "cell_type": "code",
   "execution_count": 186,
   "id": "8868024b",
   "metadata": {},
   "outputs": [],
   "source": [
    "from sklearn.model_selection import train_test_split\n",
    "train, test = train_test_split(match_df, test_size=0.1)"
   ]
  },
  {
   "cell_type": "code",
   "execution_count": 249,
   "id": "817d774e",
   "metadata": {},
   "outputs": [
    {
     "data": {
      "text/plain": [
       "0_065f0262-6c84-4b1e-a868-3a2e8004cc29_700_700.jpg            3\n",
       "154339058443124_c9e93930-0cc4-41ac-84b1-6a6d6da637b1.jpg      2\n",
       "1678750_7010d0e3-2c41-4752-a204-1fcbdf498fd9_1280_1280.jpg    2\n",
       "0e9aba56-d9b6-4134-9a55-60bdc01251c3.jpg                      2\n",
       "153740950832024_9ac41b6d-1dfc-4c2f-92e7-3473153c5517.jpg      2\n",
       "                                                             ..\n",
       "6151906_e1e61aaf-fef9-4e04-b501-1825930a6881_2048_1536.jpg    1\n",
       "35c947ce-ca25-424a-8c9d-f9c61ecffb2b.jpg                      1\n",
       "201070617_46706b3b-9cd8-43d9-87f7-dc35eb1b0e6e_538_638.jpg    1\n",
       "208955_cd7b0af8-d76b-40db-8299-fe71c968c370.jpg               1\n",
       "27039034_68d18d0b-0016-4091-9c47-f036fe858b3a_600_600.jpg     1\n",
       "Name: image_filename, Length: 488, dtype: int64"
      ]
     },
     "execution_count": 249,
     "metadata": {},
     "output_type": "execute_result"
    }
   ],
   "source": [
    "matching_products.image_filename.value_counts()"
   ]
  },
  {
   "cell_type": "code",
   "execution_count": 255,
   "id": "d885219d",
   "metadata": {},
   "outputs": [
    {
     "data": {
      "text/html": [
       "<div>\n",
       "<style scoped>\n",
       "    .dataframe tbody tr th:only-of-type {\n",
       "        vertical-align: middle;\n",
       "    }\n",
       "\n",
       "    .dataframe tbody tr th {\n",
       "        vertical-align: top;\n",
       "    }\n",
       "\n",
       "    .dataframe thead th {\n",
       "        text-align: right;\n",
       "    }\n",
       "</style>\n",
       "<table border=\"1\" class=\"dataframe\">\n",
       "  <thead>\n",
       "    <tr style=\"text-align: right;\">\n",
       "      <th></th>\n",
       "      <th>image_filename</th>\n",
       "      <th>id</th>\n",
       "      <th>id2</th>\n",
       "    </tr>\n",
       "  </thead>\n",
       "  <tbody>\n",
       "    <tr>\n",
       "      <th>0</th>\n",
       "      <td>159107627636699_e50c771d-0e6b-49e4-a85d-356478...</td>\n",
       "      <td>876155444</td>\n",
       "      <td>1026125401</td>\n",
       "    </tr>\n",
       "    <tr>\n",
       "      <th>1</th>\n",
       "      <td>288123413_dfc3a53f-f0bc-4e44-a3ed-353f8faef5b9...</td>\n",
       "      <td>1028348220</td>\n",
       "      <td>1071694571</td>\n",
       "    </tr>\n",
       "    <tr>\n",
       "      <th>2</th>\n",
       "      <td>a81dfa78-a2c3-4af0-9f7a-a85561c03839.jpg</td>\n",
       "      <td>985032307</td>\n",
       "      <td>554501984</td>\n",
       "    </tr>\n",
       "    <tr>\n",
       "      <th>3</th>\n",
       "      <td>45633585_750fe894-3842-499e-bddf-e47505bb4e63_...</td>\n",
       "      <td>665111185</td>\n",
       "      <td>1421953695</td>\n",
       "    </tr>\n",
       "    <tr>\n",
       "      <th>4</th>\n",
       "      <td>8126895_968b2cc2-5993-4cd3-8a5f-13ece33003c9_9...</td>\n",
       "      <td>940529067</td>\n",
       "      <td>784053564</td>\n",
       "    </tr>\n",
       "    <tr>\n",
       "      <th>...</th>\n",
       "      <td>...</td>\n",
       "      <td>...</td>\n",
       "      <td>...</td>\n",
       "    </tr>\n",
       "    <tr>\n",
       "      <th>18046</th>\n",
       "      <td>2cdb5785-5dfa-480e-93fe-881f99eb72dc.jpg</td>\n",
       "      <td>276739489</td>\n",
       "      <td>528284138</td>\n",
       "    </tr>\n",
       "    <tr>\n",
       "      <th>18047</th>\n",
       "      <td>b2be7dde-35f7-46b3-8b13-5617d983aaaa.jpg</td>\n",
       "      <td>869885807</td>\n",
       "      <td>1247753893</td>\n",
       "    </tr>\n",
       "    <tr>\n",
       "      <th>18048</th>\n",
       "      <td>1593958_18a170fd-dd8f-4da8-9725-aeeaa8469fe9.jpg</td>\n",
       "      <td>345149106</td>\n",
       "      <td>338983558</td>\n",
       "    </tr>\n",
       "    <tr>\n",
       "      <th>18049</th>\n",
       "      <td>6374c6b5-d7a0-40fd-8b4e-052eaaf55f14.jpg</td>\n",
       "      <td>1249485411</td>\n",
       "      <td>252926634</td>\n",
       "    </tr>\n",
       "    <tr>\n",
       "      <th>18050</th>\n",
       "      <td>b372699d-2014-425a-b338-a097f1d903d7.jpg</td>\n",
       "      <td>863613565</td>\n",
       "      <td>200765751</td>\n",
       "    </tr>\n",
       "  </tbody>\n",
       "</table>\n",
       "<p>18051 rows × 3 columns</p>\n",
       "</div>"
      ],
      "text/plain": [
       "                                          image_filename          id  \\\n",
       "0      159107627636699_e50c771d-0e6b-49e4-a85d-356478...   876155444   \n",
       "1      288123413_dfc3a53f-f0bc-4e44-a3ed-353f8faef5b9...  1028348220   \n",
       "2               a81dfa78-a2c3-4af0-9f7a-a85561c03839.jpg   985032307   \n",
       "3      45633585_750fe894-3842-499e-bddf-e47505bb4e63_...   665111185   \n",
       "4      8126895_968b2cc2-5993-4cd3-8a5f-13ece33003c9_9...   940529067   \n",
       "...                                                  ...         ...   \n",
       "18046           2cdb5785-5dfa-480e-93fe-881f99eb72dc.jpg   276739489   \n",
       "18047           b2be7dde-35f7-46b3-8b13-5617d983aaaa.jpg   869885807   \n",
       "18048   1593958_18a170fd-dd8f-4da8-9725-aeeaa8469fe9.jpg   345149106   \n",
       "18049           6374c6b5-d7a0-40fd-8b4e-052eaaf55f14.jpg  1249485411   \n",
       "18050           b372699d-2014-425a-b338-a097f1d903d7.jpg   863613565   \n",
       "\n",
       "              id2  \n",
       "0      1026125401  \n",
       "1      1071694571  \n",
       "2       554501984  \n",
       "3      1421953695  \n",
       "4       784053564  \n",
       "...           ...  \n",
       "18046   528284138  \n",
       "18047  1247753893  \n",
       "18048   338983558  \n",
       "18049   252926634  \n",
       "18050   200765751  \n",
       "\n",
       "[18051 rows x 3 columns]"
      ]
     },
     "execution_count": 255,
     "metadata": {},
     "output_type": "execute_result"
    }
   ],
   "source": [
    "train.rename(columns={'id1': 'id'}).merge(matching_products,  on='id', how='left')[['image_filename', 'id', 'id2']]"
   ]
  },
  {
   "cell_type": "code",
   "execution_count": 254,
   "id": "43be3f62",
   "metadata": {},
   "outputs": [
    {
     "data": {
      "text/html": [
       "<div>\n",
       "<style scoped>\n",
       "    .dataframe tbody tr th:only-of-type {\n",
       "        vertical-align: middle;\n",
       "    }\n",
       "\n",
       "    .dataframe tbody tr th {\n",
       "        vertical-align: top;\n",
       "    }\n",
       "\n",
       "    .dataframe thead th {\n",
       "        text-align: right;\n",
       "    }\n",
       "</style>\n",
       "<table border=\"1\" class=\"dataframe\">\n",
       "  <thead>\n",
       "    <tr style=\"text-align: right;\">\n",
       "      <th></th>\n",
       "      <th>image_filename</th>\n",
       "      <th>id</th>\n",
       "    </tr>\n",
       "  </thead>\n",
       "  <tbody>\n",
       "    <tr>\n",
       "      <th>0</th>\n",
       "      <td>3110822_ecf34c8a-1d21-497c-b2a1-9adc0842398a_2...</td>\n",
       "      <td>1026125401</td>\n",
       "    </tr>\n",
       "    <tr>\n",
       "      <th>1</th>\n",
       "      <td>97a57f5a-2c25-4378-95ed-223b17c8e8fb.jpg</td>\n",
       "      <td>1071694571</td>\n",
       "    </tr>\n",
       "    <tr>\n",
       "      <th>2</th>\n",
       "      <td>272063472_a1b17c5c-4792-4a03-9297-3e97fc417831...</td>\n",
       "      <td>554501984</td>\n",
       "    </tr>\n",
       "    <tr>\n",
       "      <th>3</th>\n",
       "      <td>2405075_eb668abb-df4d-4518-84da-b74fe85b23e9_1...</td>\n",
       "      <td>1421953695</td>\n",
       "    </tr>\n",
       "    <tr>\n",
       "      <th>4</th>\n",
       "      <td>6997796_cd7fbf3f-142c-49d1-82f8-14390cdb69bc_1...</td>\n",
       "      <td>784053564</td>\n",
       "    </tr>\n",
       "    <tr>\n",
       "      <th>...</th>\n",
       "      <td>...</td>\n",
       "      <td>...</td>\n",
       "    </tr>\n",
       "    <tr>\n",
       "      <th>18046</th>\n",
       "      <td>2c80c03f-7b2a-4eae-87a9-aa81b2f7736c.jpg</td>\n",
       "      <td>528284138</td>\n",
       "    </tr>\n",
       "    <tr>\n",
       "      <th>18047</th>\n",
       "      <td>576806c2-bf3c-4e4f-a7e2-6d043a2e3d42.jpg</td>\n",
       "      <td>1247753893</td>\n",
       "    </tr>\n",
       "    <tr>\n",
       "      <th>18048</th>\n",
       "      <td>40545836_f5c43a07-4c4a-4f64-a1b7-69c670ec3848_...</td>\n",
       "      <td>338983558</td>\n",
       "    </tr>\n",
       "    <tr>\n",
       "      <th>18049</th>\n",
       "      <td>808047_e6066aec-0e83-4fce-8178-9f94b21a5278_64...</td>\n",
       "      <td>252926634</td>\n",
       "    </tr>\n",
       "    <tr>\n",
       "      <th>18050</th>\n",
       "      <td>5626912_e33d401e-fd97-436b-a78a-5e6afa75d711_2...</td>\n",
       "      <td>200765751</td>\n",
       "    </tr>\n",
       "  </tbody>\n",
       "</table>\n",
       "<p>18051 rows × 2 columns</p>\n",
       "</div>"
      ],
      "text/plain": [
       "                                          image_filename          id\n",
       "0      3110822_ecf34c8a-1d21-497c-b2a1-9adc0842398a_2...  1026125401\n",
       "1               97a57f5a-2c25-4378-95ed-223b17c8e8fb.jpg  1071694571\n",
       "2      272063472_a1b17c5c-4792-4a03-9297-3e97fc417831...   554501984\n",
       "3      2405075_eb668abb-df4d-4518-84da-b74fe85b23e9_1...  1421953695\n",
       "4      6997796_cd7fbf3f-142c-49d1-82f8-14390cdb69bc_1...   784053564\n",
       "...                                                  ...         ...\n",
       "18046           2c80c03f-7b2a-4eae-87a9-aa81b2f7736c.jpg   528284138\n",
       "18047           576806c2-bf3c-4e4f-a7e2-6d043a2e3d42.jpg  1247753893\n",
       "18048  40545836_f5c43a07-4c4a-4f64-a1b7-69c670ec3848_...   338983558\n",
       "18049  808047_e6066aec-0e83-4fce-8178-9f94b21a5278_64...   252926634\n",
       "18050  5626912_e33d401e-fd97-436b-a78a-5e6afa75d711_2...   200765751\n",
       "\n",
       "[18051 rows x 2 columns]"
      ]
     },
     "execution_count": 254,
     "metadata": {},
     "output_type": "execute_result"
    }
   ],
   "source": [
    "train.rename(columns={'id2': 'id'}).merge(matching_products,  on='id', how='left')[['image_filename', 'id']]"
   ]
  },
  {
   "cell_type": "code",
   "execution_count": 264,
   "id": "239baf07",
   "metadata": {},
   "outputs": [],
   "source": [
    "def make_matching_dataset(df):\n",
    "    gen_1 = make_datagen(df.rename(columns={'id1': 'id'}).merge(matching_products,  on='id', how='left'), label='match')\n",
    "    gen_2 = make_datagen(df.rename(columns={'id2': 'id'}).merge(matching_products,  on='id', how='left'))\n",
    "    while True:\n",
    "        X1, Y = gen_1.next()\n",
    "        X2, _ = gen_2.next()\n",
    "        yield ([X1, X2], Y)"
   ]
  },
  {
   "cell_type": "code",
   "execution_count": 265,
   "id": "a97e100c",
   "metadata": {},
   "outputs": [],
   "source": [
    "train_dataset = make_matching_dataset(train)\n",
    "# val_dataset = make_matching_dataset(val)\n",
    "test_dataset = make_matching_dataset(test)"
   ]
  },
  {
   "cell_type": "code",
   "execution_count": 189,
   "id": "1b0d7327",
   "metadata": {},
   "outputs": [],
   "source": [
    "def display_matches(match_dataset):\n",
    "    (img1, img2), match = next(match_dataset)\n",
    "    for i in range(BATCH_SIZE):\n",
    "        fig, axs = plt.subplots(1, 2)\n",
    "        fig.suptitle(match[i])\n",
    "        axs[0].imshow(img1[i])\n",
    "        axs[1].imshow(img2[i])"
   ]
  },
  {
   "cell_type": "code",
   "execution_count": 281,
   "id": "769b64b1",
   "metadata": {},
   "outputs": [
    {
     "data": {
      "text/html": [
       "<div>\n",
       "<style scoped>\n",
       "    .dataframe tbody tr th:only-of-type {\n",
       "        vertical-align: middle;\n",
       "    }\n",
       "\n",
       "    .dataframe tbody tr th {\n",
       "        vertical-align: top;\n",
       "    }\n",
       "\n",
       "    .dataframe thead th {\n",
       "        text-align: right;\n",
       "    }\n",
       "</style>\n",
       "<table border=\"1\" class=\"dataframe\">\n",
       "  <thead>\n",
       "    <tr style=\"text-align: right;\">\n",
       "      <th></th>\n",
       "      <th>name1_y</th>\n",
       "      <th>name2_y</th>\n",
       "      <th>match</th>\n",
       "    </tr>\n",
       "  </thead>\n",
       "  <tbody>\n",
       "    <tr>\n",
       "      <th>0</th>\n",
       "      <td>Susu diamond fullcream UHT 1 liter</td>\n",
       "      <td>Susu diamond uht full cream 1000ml (1 carton)</td>\n",
       "      <td>1</td>\n",
       "    </tr>\n",
       "    <tr>\n",
       "      <th>1</th>\n",
       "      <td>Susu Diamond Coklat / Straw / Skim 1lt | fresh...</td>\n",
       "      <td>Susu greenfields fresh milk 1 liter</td>\n",
       "      <td>1</td>\n",
       "    </tr>\n",
       "    <tr>\n",
       "      <th>2</th>\n",
       "      <td>Ultra Milk 1 liter - Coklat</td>\n",
       "      <td>Susu Diamond Coklat / Strawberry / non fat 1lt...</td>\n",
       "      <td>0</td>\n",
       "    </tr>\n",
       "    <tr>\n",
       "      <th>3</th>\n",
       "      <td>Susu UHT Ultra Full Cream 1 Liter / Plain Ecer...</td>\n",
       "      <td>Susu Diamond Pasteurised Milk - PLAIN</td>\n",
       "      <td>0</td>\n",
       "    </tr>\n",
       "    <tr>\n",
       "      <th>4</th>\n",
       "      <td>susu diamond full cream UHT</td>\n",
       "      <td>susu greenfield UHT full cream 1 liter PCS</td>\n",
       "      <td>1</td>\n",
       "    </tr>\n",
       "    <tr>\n",
       "      <th>5</th>\n",
       "      <td>Nestle Carnation Susu Minuman Evaporasi 405 gr</td>\n",
       "      <td>susu diamond fresh milk 1 karton</td>\n",
       "      <td>0</td>\n",
       "    </tr>\n",
       "    <tr>\n",
       "      <th>6</th>\n",
       "      <td>Susu UHT Ultra Full Cream 1 Liter, 1 Karton is...</td>\n",
       "      <td>Diamond Fresh Milk</td>\n",
       "      <td>0</td>\n",
       "    </tr>\n",
       "    <tr>\n",
       "      <th>7</th>\n",
       "      <td>Hilo Belgian Chocolate Milk Isi 10 Pcs | Hi Lo...</td>\n",
       "      <td>ANLENE ACTIFIT 600 GR - COKLAT</td>\n",
       "      <td>0</td>\n",
       "    </tr>\n",
       "    <tr>\n",
       "      <th>8</th>\n",
       "      <td>[ Susu UHT ] Ultra Milk 1 Liter Full Cream</td>\n",
       "      <td>Ultra Milk Full Cream 200 ML</td>\n",
       "      <td>1</td>\n",
       "    </tr>\n",
       "    <tr>\n",
       "      <th>9</th>\n",
       "      <td>Ultra Milk 125 ml - Coklat</td>\n",
       "      <td>Susu Diamond 1 Liter - Full Cream [12 Liter]</td>\n",
       "      <td>0</td>\n",
       "    </tr>\n",
       "  </tbody>\n",
       "</table>\n",
       "</div>"
      ],
      "text/plain": [
       "                                             name1_y  \\\n",
       "0                 Susu diamond fullcream UHT 1 liter   \n",
       "1  Susu Diamond Coklat / Straw / Skim 1lt | fresh...   \n",
       "2                        Ultra Milk 1 liter - Coklat   \n",
       "3  Susu UHT Ultra Full Cream 1 Liter / Plain Ecer...   \n",
       "4                        susu diamond full cream UHT   \n",
       "5     Nestle Carnation Susu Minuman Evaporasi 405 gr   \n",
       "6  Susu UHT Ultra Full Cream 1 Liter, 1 Karton is...   \n",
       "7  Hilo Belgian Chocolate Milk Isi 10 Pcs | Hi Lo...   \n",
       "8         [ Susu UHT ] Ultra Milk 1 Liter Full Cream   \n",
       "9                         Ultra Milk 125 ml - Coklat   \n",
       "\n",
       "                                             name2_y  match  \n",
       "0      Susu diamond uht full cream 1000ml (1 carton)      1  \n",
       "1                Susu greenfields fresh milk 1 liter      1  \n",
       "2  Susu Diamond Coklat / Strawberry / non fat 1lt...      0  \n",
       "3              Susu Diamond Pasteurised Milk - PLAIN      0  \n",
       "4         susu greenfield UHT full cream 1 liter PCS      1  \n",
       "5                   susu diamond fresh milk 1 karton      0  \n",
       "6                                 Diamond Fresh Milk      0  \n",
       "7                     ANLENE ACTIFIT 600 GR - COKLAT      0  \n",
       "8                       Ultra Milk Full Cream 200 ML      1  \n",
       "9       Susu Diamond 1 Liter - Full Cream [12 Liter]      0  "
      ]
     },
     "execution_count": 281,
     "metadata": {},
     "output_type": "execute_result"
    }
   ],
   "source": [
    "train.merge(products.rename(columns={'id': 'id1', 'name': 'name1', 'image_id': 'image_id2'})[['id1', 'name1', 'image_id2']], on='id1', how='left').merge(products.rename(columns={'id': 'id2', 'name': 'name2', 'image_id': 'image_id2'})[['id2', 'name2', 'image_id2']], on='id2', how='left')[['name1_y', 'name2_y', 'match']][:10]\n"
   ]
  },
  {
   "cell_type": "code",
   "execution_count": 282,
   "id": "b6459949",
   "metadata": {},
   "outputs": [],
   "source": [
    "# display_matches(train_dataset)"
   ]
  },
  {
   "cell_type": "code",
   "execution_count": 283,
   "id": "92a90dbb",
   "metadata": {},
   "outputs": [],
   "source": [
    "import tensorflow.keras.backend as K\n",
    "\n",
    "def cosine_distance(vests):\n",
    "    x, y = vests\n",
    "    x = K.l2_normalize(x, axis=-1)\n",
    "    y = K.l2_normalize(y, axis=-1)\n",
    "    return -K.mean(x * y, axis=-1, keepdims=True)\n",
    "\n",
    "def contrastive_loss(y, preds, margin=1):\n",
    "    y = tf.cast(y, preds.dtype)\n",
    "\n",
    "    squaredPreds = K.square(preds)\n",
    "    squaredMargin = K.square(K.maximum(margin - preds, 0))\n",
    "    loss = K.mean(y * squaredPreds + (1 - y) * squaredMargin)\n",
    "\n",
    "    return loss\n",
    "\n",
    "def euclidean_distance(vectors):\n",
    "    # unpack the vectors into separate lists\n",
    "    (featsA, featsB) = vectors\n",
    "    # compute the sum of squared distances between the vectors\n",
    "    sumSquared = K.sum(K.square(featsA - featsB), axis=1,\n",
    "        keepdims=True)\n",
    "    # return the euclidean distance between the vectors\n",
    "    return K.sqrt(K.maximum(sumSquared, K.epsilon()))"
   ]
  },
  {
   "cell_type": "code",
   "execution_count": 284,
   "id": "c33b86ea",
   "metadata": {},
   "outputs": [
    {
     "ename": "TypeError",
     "evalue": "'KerasTensor' object is not callable",
     "output_type": "error",
     "traceback": [
      "\u001b[0;31m---------------------------------------------------------------------------\u001b[0m",
      "\u001b[0;31mTypeError\u001b[0m                                 Traceback (most recent call last)",
      "\u001b[0;32m<ipython-input-284-e270dacd6ace>\u001b[0m in \u001b[0;36m<module>\u001b[0;34m\u001b[0m\n\u001b[1;32m      5\u001b[0m \u001b[0mimg2\u001b[0m \u001b[0;34m=\u001b[0m \u001b[0mInput\u001b[0m\u001b[0;34m(\u001b[0m\u001b[0mshape\u001b[0m\u001b[0;34m=\u001b[0m\u001b[0;34m(\u001b[0m\u001b[0mINPUT_SIZE\u001b[0m\u001b[0;34m[\u001b[0m\u001b[0;36m0\u001b[0m\u001b[0;34m]\u001b[0m\u001b[0;34m,\u001b[0m \u001b[0mINPUT_SIZE\u001b[0m\u001b[0;34m[\u001b[0m\u001b[0;36m1\u001b[0m\u001b[0;34m]\u001b[0m\u001b[0;34m,\u001b[0m \u001b[0;36m3\u001b[0m\u001b[0;34m)\u001b[0m\u001b[0;34m)\u001b[0m\u001b[0;34m\u001b[0m\u001b[0;34m\u001b[0m\u001b[0m\n\u001b[1;32m      6\u001b[0m \u001b[0;34m\u001b[0m\u001b[0m\n\u001b[0;32m----> 7\u001b[0;31m \u001b[0mfeature_model1\u001b[0m \u001b[0;34m=\u001b[0m \u001b[0mfeature_model1\u001b[0m\u001b[0;34m(\u001b[0m\u001b[0mimg1\u001b[0m\u001b[0;34m)\u001b[0m\u001b[0;34m\u001b[0m\u001b[0;34m\u001b[0m\u001b[0m\n\u001b[0m\u001b[1;32m      8\u001b[0m \u001b[0mfeature_model2\u001b[0m \u001b[0;34m=\u001b[0m \u001b[0mfeature_model2\u001b[0m\u001b[0;34m(\u001b[0m\u001b[0mimg2\u001b[0m\u001b[0;34m)\u001b[0m\u001b[0;34m\u001b[0m\u001b[0;34m\u001b[0m\u001b[0m\n\u001b[1;32m      9\u001b[0m \u001b[0;34m\u001b[0m\u001b[0m\n",
      "\u001b[0;31mTypeError\u001b[0m: 'KerasTensor' object is not callable"
     ]
    }
   ],
   "source": [
    "from tensorflow.keras.layers import Input, Lambda, Dense\n",
    "from tensorflow.keras.models import Model\n",
    "\n",
    "img1 = Input(shape=(INPUT_SIZE[0], INPUT_SIZE[1], 3))\n",
    "img2 = Input(shape=(INPUT_SIZE[0], INPUT_SIZE[1], 3))\n",
    "\n",
    "feature_model1 = feature_model1(img1)\n",
    "feature_model2 = feature_model2(img2)\n",
    "\n",
    "distance = Lambda(euclidean_distance)([feature_model1, feature_model2])\n",
    "# outputs = Dense(1, activation=\"sigmoid\")(distance)\n",
    "model = Model(inputs=[img1, img2], outputs=distance)"
   ]
  },
  {
   "cell_type": "code",
   "execution_count": 285,
   "id": "05af6a51",
   "metadata": {},
   "outputs": [
    {
     "name": "stdout",
     "output_type": "stream",
     "text": [
      "Model: \"model_4\"\n",
      "__________________________________________________________________________________________________\n",
      "Layer (type)                    Output Shape         Param #     Connected to                     \n",
      "==================================================================================================\n",
      "input_27 (InputLayer)           [(None, 224, 224, 3) 0                                            \n",
      "__________________________________________________________________________________________________\n",
      "input_28 (InputLayer)           [(None, 224, 224, 3) 0                                            \n",
      "__________________________________________________________________________________________________\n",
      "vgg1 (Functional)               (None, 1000)         143667240   input_27[0][0]                   \n",
      "__________________________________________________________________________________________________\n",
      "vgg2 (Functional)               (None, 1000)         143667240   input_28[0][0]                   \n",
      "__________________________________________________________________________________________________\n",
      "lambda_4 (Lambda)               (None, 1)            0           vgg1[0][0]                       \n",
      "                                                                 vgg2[0][0]                       \n",
      "==================================================================================================\n",
      "Total params: 287,334,480\n",
      "Trainable params: 287,334,480\n",
      "Non-trainable params: 0\n",
      "__________________________________________________________________________________________________\n"
     ]
    }
   ],
   "source": [
    "model.summary()"
   ]
  },
  {
   "cell_type": "code",
   "execution_count": 286,
   "id": "e1f9634e",
   "metadata": {},
   "outputs": [],
   "source": [
    "model.compile(loss=contrastive_loss, optimizer='adam', metrics=['accuracy'])"
   ]
  },
  {
   "cell_type": "code",
   "execution_count": null,
   "id": "8406b730",
   "metadata": {},
   "outputs": [
    {
     "name": "stdout",
     "output_type": "stream",
     "text": [
      "Epoch 1/10\n",
      "380/565 [===================>..........] - ETA: 2:46 - loss: 0.5668 - accuracy: 0.2834"
     ]
    }
   ],
   "source": [
    "model.fit(train_dataset, steps_per_epoch=(len(train) // BATCH_SIZE) + 1, epochs=EPOCHS)"
   ]
  },
  {
   "cell_type": "code",
   "execution_count": 60,
   "id": "256c1fd2",
   "metadata": {},
   "outputs": [],
   "source": [
    "model.evaluate(test_dataset,batch_size=BATCH_SIZE, steps_per_epoch=(len(test) // BATCH_SIZE) + 1)"
   ]
  },
  {
   "cell_type": "code",
   "execution_count": null,
   "id": "90e15274",
   "metadata": {},
   "outputs": [],
   "source": [
    "from sklearn.metrics import classification_report \n",
    "y_pred = model.predict(test_dataset, batch_size=32, verbose=1, steps=(len(test) // BATCH_SIZE) + 1)\n",
    "print(classification_report(test.match.values, np.argmax(y_pred, axis=1)))"
   ]
  },
  {
   "cell_type": "code",
   "execution_count": null,
   "id": "6ada7759",
   "metadata": {},
   "outputs": [],
   "source": [
    "np.unique(y_pred)"
   ]
  },
  {
   "cell_type": "code",
   "execution_count": 64,
   "id": "2beaa5da",
   "metadata": {},
   "outputs": [
    {
     "name": "stderr",
     "output_type": "stream",
     "text": [
      "/opt/conda/lib/python3.7/site-packages/tensorflow/python/keras/utils/generic_utils.py:497: CustomMaskWarning: Custom mask layers require a config and must override get_config. When loading, the custom mask layer must be passed to the custom_objects argument.\n",
      "  category=CustomMaskWarning)\n"
     ]
    },
    {
     "name": "stdout",
     "output_type": "stream",
     "text": [
      "INFO:tensorflow:Assets written to: ../models/image_siamese/assets\n"
     ]
    }
   ],
   "source": [
    "model.save('../models/image_siamese')"
   ]
  }
 ],
 "metadata": {
  "environment": {
   "name": "tf2-gpu.2-5.m74",
   "type": "gcloud",
   "uri": "gcr.io/deeplearning-platform-release/tf2-gpu.2-5:m74"
  },
  "kernelspec": {
   "display_name": "Python 3",
   "language": "python",
   "name": "python3"
  },
  "language_info": {
   "codemirror_mode": {
    "name": "ipython",
    "version": 3
   },
   "file_extension": ".py",
   "mimetype": "text/x-python",
   "name": "python",
   "nbconvert_exporter": "python",
   "pygments_lexer": "ipython3",
   "version": "3.7.10"
  }
 },
 "nbformat": 4,
 "nbformat_minor": 5
}
