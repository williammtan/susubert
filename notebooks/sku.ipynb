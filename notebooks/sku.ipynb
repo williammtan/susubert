{
 "cells": [
  {
   "cell_type": "code",
   "execution_count": 24,
   "id": "ef42ea3c",
   "metadata": {},
   "outputs": [],
   "source": [
    "import pandas as pd\n",
    "from tqdm import tqdm\n",
    "import numpy as np\n",
    "import spacy\n",
    "import re"
   ]
  },
  {
   "cell_type": "code",
   "execution_count": 25,
   "id": "8254f17f",
   "metadata": {},
   "outputs": [
    {
     "name": "stdout",
     "output_type": "stream",
     "text": [
      "The google.cloud.bigquery extension is already loaded. To reload it, use:\n",
      "  %reload_ext google.cloud.bigquery\n"
     ]
    }
   ],
   "source": [
    "%load_ext google.cloud.bigquery"
   ]
  },
  {
   "cell_type": "code",
   "execution_count": 21,
   "id": "28ed5afc",
   "metadata": {},
   "outputs": [
    {
     "name": "stderr",
     "output_type": "stream",
     "text": [
      "Query complete after 0.00s: 100%|██████████| 1/1 [00:00<00:00, 997.69query/s] \n",
      "Downloading: 100%|██████████| 425807/425807 [00:02<00:00, 177257.57rows/s]\n"
     ]
    }
   ],
   "source": [
    "%%bigquery products --use_bqstorage_api\n",
    "SELECT id, name, description, weight, shop_id, price, menu_name, main_category, sub_category\n",
    "FROM `food-id-app.external_data_temp.EXTERNAL_PRODUCTS`\n",
    "WHERE main_category = 'Produk Susu'"
   ]
  },
  {
   "cell_type": "code",
   "execution_count": 26,
   "id": "f14d8073",
   "metadata": {},
   "outputs": [
    {
     "name": "stderr",
     "output_type": "stream",
     "text": [
      "100%|██████████| 425807/425807 [00:37<00:00, 11214.34it/s]\n"
     ]
    }
   ],
   "source": [
    "skus = []\n",
    "for i, prod in tqdm(products.iterrows(), total=len(products)):\n",
    "    sku = re.search(r'(\\d){4}/(\\d){19}/(\\d){2}', prod.description)\n",
    "    if sku is not None:\n",
    "        sku = sku.group(0)\n",
    "        skus.append({\n",
    "            \"id\": prod.id,\n",
    "            \"name\": prod['name'],\n",
    "            \"description\": prod.description,\n",
    "            \"price\": prod.price,\n",
    "            \"weight\": prod.weight,\n",
    "            \"sku\": sku\n",
    "        })\n",
    "\n",
    "skus = pd.DataFrame(skus)"
   ]
  },
  {
   "cell_type": "code",
   "execution_count": 27,
   "id": "875e8a17",
   "metadata": {},
   "outputs": [],
   "source": [
    "skus = skus[skus.sku.duplicated()].reset_index()"
   ]
  },
  {
   "cell_type": "code",
   "execution_count": 28,
   "id": "b680fb3d",
   "metadata": {},
   "outputs": [],
   "source": [
    "skus_list = skus.sku.unique()"
   ]
  },
  {
   "cell_type": "code",
   "execution_count": 29,
   "id": "923dc4f9",
   "metadata": {},
   "outputs": [],
   "source": [
    "skus['master_product'] = skus.apply(lambda x: np.where(skus_list == x.sku)[0][0], axis=1)"
   ]
  },
  {
   "cell_type": "code",
   "execution_count": 34,
   "id": "85d8d40d",
   "metadata": {},
   "outputs": [],
   "source": [
    "one_skus = []\n",
    "for sku in skus_list:\n",
    "    num_prods = len(skus[skus.sku == sku])\n",
    "    if num_prods == 1:\n",
    "        one_skus.append(sku)"
   ]
  },
  {
   "cell_type": "code",
   "execution_count": 39,
   "id": "7ed20003",
   "metadata": {
    "scrolled": true
   },
   "outputs": [],
   "source": [
    "skus = skus[~skus.sku.isin(one_skus)]"
   ]
  },
  {
   "cell_type": "code",
   "execution_count": 104,
   "id": "a82fd415",
   "metadata": {
    "scrolled": true
   },
   "outputs": [],
   "source": [
    "skus = skus[skus.sku.isin([sku for sku in skus_list if len(skus[skus.sku == sku]) > 8])].reset_index()"
   ]
  },
  {
   "cell_type": "code",
   "execution_count": 105,
   "id": "e0d2ba61",
   "metadata": {},
   "outputs": [],
   "source": [
    "skus.to_csv('../data/sku.csv', index=False)"
   ]
  },
  {
   "cell_type": "code",
   "execution_count": 113,
   "id": "25262103",
   "metadata": {},
   "outputs": [
    {
     "data": {
      "text/plain": [
       "'Cream Cheese / Krim keju Murray Goulburn 2KG Australia Murah'"
      ]
     },
     "execution_count": 113,
     "metadata": {},
     "output_type": "execute_result"
    }
   ],
   "source": [
    "skus[skus.id == 1229821470].name.iloc[0]"
   ]
  },
  {
   "cell_type": "code",
   "execution_count": 112,
   "id": "334f0d74",
   "metadata": {},
   "outputs": [
    {
     "data": {
      "text/plain": [
       "'Keju / Cheese Cheddar DairyGold / Dairy Gold Blue 2 KG Keju Parut'"
      ]
     },
     "execution_count": 112,
     "metadata": {},
     "output_type": "execute_result"
    }
   ],
   "source": [
    "skus[skus.id == 838709590].name.iloc[0]"
   ]
  }
 ],
 "metadata": {
  "kernelspec": {
   "display_name": "Python 3",
   "language": "python",
   "name": "python3"
  },
  "language_info": {
   "codemirror_mode": {
    "name": "ipython",
    "version": 3
   },
   "file_extension": ".py",
   "mimetype": "text/x-python",
   "name": "python",
   "nbconvert_exporter": "python",
   "pygments_lexer": "ipython3",
   "version": "3.7.10"
  }
 },
 "nbformat": 4,
 "nbformat_minor": 5
}
